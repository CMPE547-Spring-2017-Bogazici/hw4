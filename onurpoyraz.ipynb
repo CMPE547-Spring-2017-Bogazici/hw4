{
 "cells": [
  {
   "cell_type": "markdown",
   "metadata": {
    "deletable": true,
    "editable": true
   },
   "source": [
    "# Onur Poyraz 2016705069"
   ]
  },
  {
   "cell_type": "code",
   "execution_count": 1,
   "metadata": {
    "collapsed": false,
    "deletable": true,
    "editable": true
   },
   "outputs": [],
   "source": [
    "%matplotlib inline\n",
    "import numpy as np\n",
    "from scipy.special import gamma,gammaln\n",
    "import matplotlib.pyplot as plt"
   ]
  },
  {
   "cell_type": "markdown",
   "metadata": {
    "deletable": true,
    "editable": true
   },
   "source": [
    "### 1.Repeat the fake/fair coin example covered in class with a prior probability of form 0.5Beta(20,3) + 0.5Beta(3,20)"
   ]
  },
  {
   "cell_type": "markdown",
   "metadata": {
    "deletable": true,
    "editable": true
   },
   "source": [
    "If the coin is fair then m = 0;"
   ]
  },
  {
   "cell_type": "markdown",
   "metadata": {
    "deletable": true,
    "editable": true
   },
   "source": [
    "$$\n",
    "p(X|m=0)=\\int p(X|\\pi)\\delta(\\pi-0.5)p(m=0)d\\pi\n",
    "\\\\\n",
    "=\\prod_{i=1}^N \\left(\\frac{1}{2}\\right)^{x^i} \\left(\\frac{1}{2}\\right)^{1-x^i} = \\frac{1}{2^N}\n",
    "$$"
   ]
  },
  {
   "cell_type": "markdown",
   "metadata": {
    "deletable": true,
    "editable": true
   },
   "source": [
    "If the coin is fake then m = 1;"
   ]
  },
  {
   "cell_type": "markdown",
   "metadata": {
    "deletable": true,
    "editable": true
   },
   "source": [
    "$$\n",
    "p(X|m=1)=\\int p(\\pi; 3, 20) \\prod_{i=1}^{N} p(x^i|\\pi)d\\pi+\\int p(\\pi; 20, 3)\\prod_{i=1}^{N}p(x^i|\\pi)d\\pi\n",
    "\\\\\n",
    "=(0.5) \\frac{\\Gamma(23)}{\\Gamma(3)\\Gamma(20)}\\Bigg( \\int \\left(1-\\pi\\right)^{c_0+3-1} \\pi^{c_1+20-1} d\\pi +  \\int \\left(1-\\pi\\right)^{c_0+20-1} \\pi^{c_1+3-1}d\\pi \\Bigg)\n",
    "\\\\\n",
    "=(0.5)\\frac{\\Gamma(23)}{\\Gamma(20)\\Gamma(3)} \\Bigg( \\frac{\\Gamma(20+c_0)\\Gamma(3+c_1)}{\\Gamma(23+c_0+c_1)} + \\frac{\\Gamma(3+c_0)\\Gamma(20+c_1)}{\\Gamma(23+c_0+c_1)} \\Bigg)\n",
    "$$<br>\n",
    "$c_0 =$ number of tails\n",
    "<br>\n",
    "$c_1 =$ number of heads\n",
    "<br>\n",
    "<br>\n",
    "The log odd ratio is given below;\n",
    "<br>\n",
    "$$\n",
    "l(X) = \\log p(X|m = 0) - \\log p(X|m = 1)\n",
    "$$"
   ]
  },
  {
   "cell_type": "code",
   "execution_count": 2,
   "metadata": {
    "collapsed": true,
    "deletable": true,
    "editable": true
   },
   "outputs": [],
   "source": [
    "# Prior\n",
    "a1 = 20\n",
    "b1 = 3\n",
    "a2 = 3\n",
    "b2 = 20"
   ]
  },
  {
   "cell_type": "code",
   "execution_count": 3,
   "metadata": {
    "collapsed": false,
    "deletable": true,
    "editable": true
   },
   "outputs": [
    {
     "name": "stdout",
     "output_type": "stream",
     "text": [
      "log_odds =  -1.13641225583\n"
     ]
    }
   ],
   "source": [
    "def log_odds(c0, c1, a1, b1, a2, b2):\n",
    "    M_fair = (c0 + c1) * np.log(0.5)\n",
    "    M_fake = np.log(0.5*((gamma(a1+b1)/(gamma(a1)*gamma(b1)))*((gamma(a1+c0)*gamma(b1+c1))/gamma(a1+b1+c0+c1))+(gamma(a2+b2)/(gamma(a2)*gamma(b2)))*((gamma(a2+c0)*gamma(b2+c1))/gamma(a2+b2+c0+c1))))\n",
    "    return M_fair - M_fake\n",
    "\n",
    "# Number of Zeros Observed\n",
    "c0 = 6\n",
    "\n",
    "# Number of Ones Observed\n",
    "c1 = 1\n",
    "\n",
    "print 'log_odds = ', log_odds(c0, c1, a1, b1, a2, b2)"
   ]
  },
  {
   "cell_type": "code",
   "execution_count": 4,
   "metadata": {
    "collapsed": false,
    "deletable": true,
    "editable": true
   },
   "outputs": [
    {
     "data": {
      "image/png": "[encoded data removed]",
      "text/plain": [
       "<matplotlib.figure.Figure at 0x111533810>"
      ]
     },
     "metadata": {},
     "output_type": "display_data"
    }
   ],
   "source": [
    "# Number of Trials\n",
    "N = 25\n",
    "\n",
    "l = np.zeros(N+1)\n",
    "for c in range(0,N+1):\n",
    "    l[c] = log_odds(N-c, c, a1, b1, a2, b2)\n",
    "    \n",
    "plt.plot(range(0,N+1), l, 'mo')\n",
    "plt.plot(range(0,N+1), np.zeros(N+1), 'k:')\n",
    "ax = plt.gca()\n",
    "ax.set_xlabel('Number of ones $c_1$')\n",
    "ax.set_ylabel('log-odds $l(c_1)$')\n",
    "plt.show()"
   ]
  },
  {
   "cell_type": "code",
   "execution_count": 5,
   "metadata": {
    "collapsed": false,
    "deletable": true,
    "editable": true
   },
   "outputs": [
    {
     "data": {
      "image/png": "[encoded data removed]",
      "text/plain": [
       "<matplotlib.figure.Figure at 0x11150bc90>"
      ]
     },
     "metadata": {},
     "output_type": "display_data"
    }
   ],
   "source": [
    "for N in range(1, 25):\n",
    "\n",
    "    l = np.zeros(N+1)\n",
    "    for c in range(0,N+1):\n",
    "        l[c] = log_odds(N-c, c, a1, b1, a2, b2)\n",
    "    \n",
    "    p = np.arange(0,N+1)/float(N)\n",
    "    index_fair = np.where(np.array(l)>0)\n",
    "    index_fake = np.where(np.array(l)<0)\n",
    "    plt.plot(N*np.ones_like(p[index_fair]), p[index_fair], '.k',markersize=4)    \n",
    "    plt.plot(N*np.ones_like(p[index_fake]), p[index_fake], '.m',markersize=20)\n",
    "\n",
    "plt.xlabel('$N$')\n",
    "plt.ylabel('Heads%')\n",
    "plt.show()"
   ]
  },
  {
   "cell_type": "markdown",
   "metadata": {
    "deletable": true,
    "editable": true
   },
   "source": [
    "### 2.Q74 from Booklet"
   ]
  },
  {
   "cell_type": "markdown",
   "metadata": {
    "deletable": true,
    "editable": true
   },
   "source": [
    "$$\n",
    "p(n=i|x_{1:50})=\\frac{p(n=i,x_{1:50})}{p(x_{1:50})}\n",
    "\\\\\n",
    "p(n=i,x_{1:50})=\\int\\limits_0^1\\int\\limits_0^1 p(n=i,x_{1:50},\\pi_1,\\pi_2)\\,d\\pi_1d\\pi_2=\\int\\limits_0^1\\int\\limits_0^1 p(x_{1:50}|n=i,\\pi_1,\\pi_2)p(n=i)p(\\pi_1)p(\\pi_2)\\,d\\pi_1d\\pi_2\n",
    "\\\\\n",
    "p(x_{1:50}|n=i,\\pi_1,\\pi_2)=\\bigg(\\prod_{i=1}^{n-1} \\pi_1^{x_i} (1-\\pi_1)^{1-x_i}\\bigg)\\bigg(\\prod_{i=n}^{50} \\pi_2^{x_i} (1-\\pi_2)^{1-x_i}\\bigg)\n",
    "\\\\\n",
    "p(n=i,x_{1:50})=\\frac{1}{50}\\int\\limits_0^1\\int\\limits_0^1\\bigg(\\prod_{i=1}^{n-1} \\pi_1^{x_i} (1-\\pi_1)^{1-x_i}\\bigg)\\bigg(\\prod_{i=n}^{50} \\pi_2^{x_i} (1-\\pi_2)^{1-x_i}\\bigg)\\bigg(\\frac{\\Gamma(\\alpha)\\Gamma(\\beta)}{\\Gamma(\\alpha+\\beta)}\\bigg)^2 \\pi_1^{\\alpha-1}(1-\\pi_1)^{\\beta-1} \\pi_2^{\\alpha-1}(1-\\pi_2)^{\\beta-1} \\,d\\pi_1d\\pi_2 \\\\\n",
    "=\\frac{1}{50}\\bigg(\\frac{\\Gamma(\\alpha+\\beta)}{\\Gamma(\\alpha)\\Gamma(\\beta)}\\bigg)^2\\frac{\\Gamma(\\alpha+a_1)\\Gamma(\\beta+b_1)}{\\Gamma(\\alpha+\\beta+a_1+b_1)}\\frac{\\Gamma(\\alpha+a_2)\\Gamma(\\beta+b_2)}{\\Gamma(\\alpha+\\beta+a_2+b_2)}\n",
    "\\\\\n",
    "$$<br><br>\n",
    "$a_1$=number of 1's before the n\n",
    "<br>\n",
    "$b_1$=number of 0's before the n\n",
    "<br>\n",
    "$a_2$=number of 1's after the n\n",
    "<br>\n",
    "$b_2$=number of 0's after the n\n",
    "<br>\n",
    "$\\alpha=\\beta=1$"
   ]
  },
  {
   "cell_type": "code",
   "execution_count": 6,
   "metadata": {
    "collapsed": false,
    "deletable": true,
    "editable": true
   },
   "outputs": [
    {
     "name": "stdout",
     "output_type": "stream",
     "text": [
      "Maximum probability of the changepoint is at n equals:\n",
      "25\n"
     ]
    },
    {
     "data": {
      "image/png": "[encoded data removed]",
      "text/plain": [
       "<matplotlib.figure.Figure at 0x111954fd0>"
      ]
     },
     "metadata": {},
     "output_type": "display_data"
    }
   ],
   "source": [
    "Dataset = np.array([0,0,1,0,0,1,0,0,0,0,1,0,0,0,0,1,0,0,1,0,1,1,0,0,1,1,1,1,1,1,1,1,1,1,1,0,1,1,0,1,1,1,1,1,1,1,1,1,1,1]);\n",
    "Probability = np.zeros((50,1))\n",
    "summ = 0\n",
    "maxx = 0\n",
    "for n in range(50):\n",
    "    a1 = sum(Dataset[0:n])\n",
    "    b1 = n - a1\n",
    "    a2 = sum(Dataset[n:len(Dataset)])\n",
    "    b2 = len(Dataset)- n - a2\n",
    "    Probability[n] = (((gamma(2)/(gamma(1)*gamma(1)))**2)*(gamma(1+a1)*gamma(1+b1)/gamma(2+a1+b1))*(gamma(1+a2)*gamma(1+b2)/gamma(2+a2+b2)))/50\n",
    "    summ = summ + Probability[n]\n",
    "    if Probability[n] >= maxx:\n",
    "        maxx = Probability[n]\n",
    "        index = n\n",
    "Probability = Probability/summ\n",
    "print \"Maximum probability of the changepoint is at n equals:\"\n",
    "print index+1\n",
    "plt.plot(range(1,51),Probability,'m')\n",
    "plt.xlabel(\"n\")\n",
    "plt.ylabel(\"Probability P\")\n",
    "plt.title(\"Posterior Probability of $p(n|x_{1:50})$\")\n",
    "plt.show()"
   ]
  }
 ],
 "metadata": {
  "kernelspec": {
   "display_name": "Python 2",
   "language": "python",
   "name": "python2"
  },
  "language_info": {
   "codemirror_mode": {
    "name": "ipython",
    "version": 2
   },
   "file_extension": ".py",
   "mimetype": "text/x-python",
   "name": "python",
   "nbconvert_exporter": "python",
   "pygments_lexer": "ipython2",
   "version": "2.7.13"
  }
 },
 "nbformat": 4,
 "nbformat_minor": 2
}
