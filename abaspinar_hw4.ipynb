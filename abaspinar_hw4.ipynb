{
 "cells": [
  {
   "cell_type": "markdown",
   "metadata": {},
   "source": [
    "# Finding if a Coin is Fair or Fake\n",
    "We consider the folowing problem: Given a sequence of coin tosses $X = \\{x^{(n)}\\}_{n=1\\dots N}$, determine if the coin is fair or fake.\n",
    "\n",
    "This can be cast as a model selection problem:\n",
    "\n",
    "\\begin{eqnarray}\n",
    "\\pi_1|m & \\sim & \\left\\{ \\begin{array}{cc} \\delta(\\pi_1 - 0.5) & m = 0\\\\ \\mathcal{B}(\\pi; a, b) & m = 1 \\end{array} \\right.\n",
    "\\end{eqnarray}\n",
    "For $n = 1\\dots N$\n",
    "\\begin{eqnarray}\n",
    "x^{(n)}| \\pi_1 & \\sim & \\mathcal{BE}(x; \\pi_1)\n",
    "\\end{eqnarray}\n",
    "\n",
    "When m = 0, the coin is fair and m = 1, the coin is fake.\n",
    "\n",
    "We need to calculate the marginal likelihoods for $m=0$ and $m=1$\n",
    "\\begin{eqnarray}\n",
    "p(X| m) & = & \\int d\\pi_1 p(X | \\pi_1) p(\\pi_1|m)\n",
    "\\end{eqnarray}\n",
    "\n",
    "###### Not Fake\n",
    "$m=0$\n",
    "\\begin{eqnarray}\n",
    "p(X| m = 0) & = & \\int d\\pi_1 p(X| \\pi_1) \\delta(\\pi_1 - 0.5) \\\\\n",
    "& = & \\prod_{n=1}^N \\left(\\frac{1}{2}\\right)^{x^{(n)}} \\left(\\frac{1}{2}\\right)^{1-x^{(n)}} = \\frac{1}{2^N}\n",
    "\\end{eqnarray}\n",
    "\n",
    "###### Fake\n",
    "$m=1$\n",
    "\\begin{eqnarray}\n",
    "p(X| m = 1) & = & \\int d\\pi_1 p(\\pi_1; a, b) \\prod_{n=1}^{N} p(x^{(n)}| \\pi_1)  \\\\\n",
    "& = &  \\int d\\pi_1 \\left(\\prod_{n=1}^N \\left(1-\\pi_1\\right)^{1-x^{(n)}} \\pi_1^{x^{(n)}} \\right) (0.5) \\mathcal{B}(\\pi_1; 20, 3) + (0.5) \\mathcal{B}(\\pi_1; 3, 20) \\\\\n",
    "& = & \\int d\\pi_1 \\left(\\prod_{n=1}^N \\left(1-\\pi_1\\right)^{1-x^{(n)}} \\pi_1^{x^{(n)}} \\right) (0.5) \\mathcal{B}(\\pi_1; 20, 3) + \\int d\\pi_1 \\left(\\prod_{n=1}^N \\left(1-\\pi_1\\right)^{1-x^{(n)}} \\pi_1^{x^{(n)}} \\right) (0.5) \\mathcal{B}(\\pi_1; 3, 20) \\\\\n",
    "& = & (0.5) \\frac{\\Gamma(20 + 3)}{\\Gamma(20)\\Gamma(3)} \\int d\\pi_1 \\left(1-\\pi_1\\right)^{c_0+20-1} \\pi_1^{c_1+3-1} + (0.5) \\frac{\\Gamma(3 + 20)}{\\Gamma(3)\\Gamma(20)} \\int d\\pi_1 \\left(1-\\pi_1\\right)^{c_0+3-1} \\pi_1^{c_1+20-1} \\\\\n",
    "& = & (0.5) \\frac{\\Gamma(20 + 3)}{\\Gamma(20)\\Gamma(3)} \\frac{\\Gamma(c_0+20)\\Gamma(c_1+3)}{\\Gamma(c_0 + c_1 + 20 + 3)} + (0.5) \\frac{\\Gamma(3 + 20)}{\\Gamma(3)\\Gamma(20)} \\frac{\\Gamma(c_0+3)\\Gamma(c_1+20)}{\\Gamma(c_0 + c_1 + 3 + 20)} \\\\\n",
    "& = & (0.5) \\frac{\\Gamma(23)}{\\Gamma(20)\\Gamma(3)} \\Bigg\\{ \\frac{\\Gamma(c_0+20)\\Gamma(c_1+3)}{\\Gamma(c_0 + c_1 + 23)} + \\frac{\\Gamma(c_0+3)\\Gamma(c_1+20)}{\\Gamma(c_0 + c_1 + 23)} \\Bigg\\} \\\\\n",
    "\\end{eqnarray}"
   ]
  },
  {
   "cell_type": "markdown",
   "metadata": {},
   "source": [
    "The log-odds is the ratio of marginal likelihoods\n",
    "\n",
    "$$\n",
    "l(X) = \\log\\left( \\frac{p(X|m = \\text{Fair})}{p(X|m = \\text{Fake})} \\right)\n",
    "$$\n",
    "\n",
    "If $l(X)>0$, we may conclude that the coin is fair and biased when $l<0$."
   ]
  },
  {
   "cell_type": "code",
   "execution_count": 57,
   "metadata": {
    "collapsed": false
   },
   "outputs": [
    {
     "name": "stdout",
     "output_type": "stream",
     "text": [
      "('log_odds = ', -1.1364122558339171)\n"
     ]
    }
   ],
   "source": [
    "# adapted from ModelingExamples.ipynb\n",
    "import numpy as np\n",
    "import scipy.special as sps\n",
    "\n",
    "def log_odds(c_0, c_1, a, b):\n",
    "    # Total number of tosses\n",
    "    N = c_0 + c_1\n",
    "    \n",
    "    M_fair = N*np.log(0.5)\n",
    "    M_fake = np.log(0.5 * (sps.gamma(a+b) / (sps.gamma(a) * sps.gamma(b))) * ((sps.gamma(c_0+a) * sps.gamma(c_1+b) / (sps.gamma(N+a+b)))  \n",
    "                                                                    + (sps.gamma(c_0+b) * sps.gamma(c_1+a) / sps.gamma(N+a+b))))\n",
    "    return M_fair - M_fake\n",
    "\n",
    "# Number of Zeros observed\n",
    "c_0 = 6\n",
    "# Number of Ones\n",
    "c_1 = 1\n",
    "\n",
    "# Prior\n",
    "a = 20\n",
    "b = 3\n",
    "\n",
    "\n",
    "print('log_odds = ', log_odds(c_0, c_1, a, b) )"
   ]
  },
  {
   "cell_type": "code",
   "execution_count": 58,
   "metadata": {
    "collapsed": false
   },
   "outputs": [
    {
     "data": {
      "image/png": "[encoded data removed]",
      "text/plain": [
       "<matplotlib.figure.Figure at 0x1065a0490>"
      ]
     },
     "metadata": {},
     "output_type": "display_data"
    }
   ],
   "source": [
    "%matplotlib inline\n",
    "import matplotlib.pyplot as plt\n",
    "\n",
    "a = 20\n",
    "b = 3\n",
    "N = 10\n",
    "\n",
    "l = np.zeros(N+1)\n",
    "\n",
    "for c in range(0,N+1):\n",
    "    l[c] = log_odds(N-c, c, a, b)\n",
    "\n",
    "plt.plot(range(0,N+1), l, 'o')\n",
    "plt.plot(range(0,N+1), np.zeros(N+1), 'k:')\n",
    "ax = plt.gca()\n",
    "ax.set_xlabel('Number of ones $c_1$')\n",
    "ax.set_ylabel('log-odds $l(X)$')\n",
    "plt.show()"
   ]
  },
  {
   "cell_type": "code",
   "execution_count": 59,
   "metadata": {
    "collapsed": false
   },
   "outputs": [
    {
     "data": {
      "image/png": "[encoded data removed]",
      "text/plain": [
       "<matplotlib.figure.Figure at 0x106228b90>"
      ]
     },
     "metadata": {},
     "output_type": "display_data"
    }
   ],
   "source": [
    "a = 20\n",
    "b = 3\n",
    "\n",
    "for N in range(1,25):\n",
    "\n",
    "    l = np.zeros(N+1)\n",
    "\n",
    "    for c in range(0,N+1):\n",
    "        l[c] = log_odds(N-c, c, a, b)\n",
    "\n",
    "    \n",
    "    idx = np.where( np.array(l)<0 )\n",
    "    p = np.arange(0,N+1)/float(N)\n",
    "    plt.plot(N*np.ones_like(p), p, '.k',markersize=4)    \n",
    "    plt.plot(N*np.ones_like(p[idx]), p[idx], '.r',markersize=20)\n",
    "    \n",
    "\n",
    "ax = plt.gca()\n",
    "ax.set_ylim((0,1))\n",
    "ax.set_xlabel('$N$')\n",
    "ax.set_ylabel('$c_1/N$')\n",
    "plt.show()"
   ]
  },
  {
   "cell_type": "markdown",
   "metadata": {},
   "source": [
    "# Q74 from the booklet\n",
    "\n",
    "Suppose we observe the following dataset $x_t \\in 0,1$ for $t = 1 ... 50$\n",
    "\n",
    "0 0 1 0 0 1 0 0 0 0 1 0 0 0 0 1 0 0 1 0 1 1 0 0 1 1 1 1 1 1 1 1 1 1 1 0 1 1 0 1 1 1 1 1 1 1 1 1 1 1\n",
    "\n",
    "\\begin{eqnarray} \n",
    "\\pi_1 \\sim \\mathcal{B}(1, 1)\n",
    "\\end{eqnarray}\n",
    "\\begin{eqnarray}\n",
    "\\pi_2 \\sim \\mathcal{B}(1, 1)\n",
    "\\end{eqnarray}\n",
    "\\begin{eqnarray}\n",
    "x_t & \\sim & \\left\\{ \\begin{array}{cc} \\mathcal{BE}(x_t; \\pi_1), & t < n \\\\  \\mathcal{BE}(x_t; \\pi_2), & t \\geq n \\end{array} \\right.\n",
    "\\end{eqnarray}\n",
    "Derive, compute and plot the posterior probability of $p(n|x_{1:50})$ given that $n$ is a-priori uniform."
   ]
  },
  {
   "cell_type": "markdown",
   "metadata": {},
   "source": [
    "$P(n=i|x_{1:50}) \\propto \\int_{\\pi_{1}}\\int_{\\pi_{2}}P(x_{1:N},\\pi_{1},\\pi_{2},n) d\\pi_{1} d\\pi_{2}$"
   ]
  },
  {
   "cell_type": "markdown",
   "metadata": {},
   "source": [
    "$\\int_{\\pi_{1}}\\int_{\\pi_{2}}P(x_{1:i}|\\pi_{1},n=i) P(\\pi_{1}) P(x_{i+1:N}|\\pi_{2},n=i) P(\\pi_{2}) P(n=i) d\\pi_{1} d\\pi_{2}$"
   ]
  },
  {
   "cell_type": "markdown",
   "metadata": {},
   "source": [
    "$P(n=i)*\\frac{\\Gamma(a+b)}{\\Gamma(a)\\Gamma(b)}*\\frac{\\Gamma(a+b)}{\\Gamma(a)\\Gamma(b)}*\\frac{\\Gamma(a+c0_l)\\Gamma(b+c1_l)}{\\Gamma(a+b+c0_l+c1_l)}*\\frac{\\Gamma(a+c0_r)\\Gamma(b+c1_r)}{\\Gamma(a+b+c0_r+c1_r)}$"
   ]
  },
  {
   "cell_type": "markdown",
   "metadata": {},
   "source": [
    "Where $c0_l$ and $c1_l$ represents the 0 and 1 count at left side t < n and $c0_r$ and $c1_r$ represents the 0 and 1 count at the right side t >= n"
   ]
  },
  {
   "cell_type": "code",
   "execution_count": 60,
   "metadata": {
    "collapsed": false
   },
   "outputs": [],
   "source": [
    "def anomalyDetection(seq, a, b):\n",
    "    probs = []\n",
    "    N = len(seq)\n",
    "    for i in range(0, N):\n",
    "        c0_l = 0\n",
    "        c1_l = 0\n",
    "        c0_r = 0\n",
    "        c1_r = 0\n",
    "        leftPart = seq[:i]\n",
    "        rightPart = seq[i+1:]\n",
    "        for m in leftPart:\n",
    "            if m == 0:\n",
    "                c0_l += 1\n",
    "            else:\n",
    "                c1_l += 1\n",
    "        for m in rightPart:\n",
    "            if m == 0:\n",
    "                c0_r += 1\n",
    "            else:\n",
    "                c1_r += 1\n",
    "        prob = (1.0/float(N))*((sps.gamma(a+b)/(sps.gamma(a) * sps.gamma(b)))**2) * ((sps.gamma(a+c0_l)*sps.gamma(b+c1_l))/(sps.gamma(a+b+c0_l+c1_l))) *((sps.gamma(a+c0_r)*sps.gamma(b+c1_r))/(sps.gamma(a+b+c0_r+c1_r)))\n",
    "        probs.append(prob)\n",
    "    #normalization    \n",
    "    probs = np.multiply(probs,1/sum(probs))\n",
    "    return probs"
   ]
  },
  {
   "cell_type": "code",
   "execution_count": 61,
   "metadata": {
    "collapsed": false
   },
   "outputs": [
    {
     "name": "stdout",
     "output_type": "stream",
     "text": [
      "Index of change with max prob:  23\n"
     ]
    },
    {
     "data": {
      "text/plain": [
       "[<matplotlib.lines.Line2D at 0x1065a8e50>]"
      ]
     },
     "execution_count": 61,
     "metadata": {},
     "output_type": "execute_result"
    },
    {
     "data": {
      "image/png": "[encoded data removed]",
      "text/plain": [
       "<matplotlib.figure.Figure at 0x10606b610>"
      ]
     },
     "metadata": {},
     "output_type": "display_data"
    }
   ],
   "source": [
    "seq = [0, 0, 1, 0, 0, 1, 0, 0, 0, 0, 1, 0, 0, 0, 0, 1, 0, 0, 1, 0, 1, 1, 0, 0, 1, 1, 1, 1, 1, 1, 1, 1, 1, 1, 1, 0, 1, 1, 0, 1, 1, 1, 1, 1, 1, 1, 1, 1, 1, 1]\n",
    "probs = anomalyDetection(seq, 1, 1)\n",
    "print 'Index of change with max prob: ', np.argmax(probs)\n",
    "plt.plot(probs)"
   ]
  },
  {
   "cell_type": "raw",
   "metadata": {},
   "source": []
  }
 ],
 "metadata": {
  "kernelspec": {
   "display_name": "Python 2",
   "language": "python",
   "name": "python2"
  },
  "language_info": {
   "codemirror_mode": {
    "name": "ipython",
    "version": 2
   },
   "file_extension": ".py",
   "mimetype": "text/x-python",
   "name": "python",
   "nbconvert_exporter": "python",
   "pygments_lexer": "ipython2",
   "version": "2.7.10"
  }
 },
 "nbformat": 4,
 "nbformat_minor": 0
}
