{
 "cells": [
  {
   "cell_type": "markdown",
   "metadata": {},
   "source": [
    "# Homework 4 Bayesian Statistics and Machine Learning\n",
    "#### Deniz Ekiz\n",
    "#### 2016700051\n",
    "\n",
    "## Q1: \n",
    "\n",
    "\n",
    "Repeat the fake/fair coin example covered in class with a prior probability of form 0.5Beta(20,3) + 0.5Beta(3,20)\n",
    "Derive the marginal likelhood and create plots similar to the ones in notes/ModelingExamples.ipynb section Fair/Fake coin.\n",
    "## Solution 1:\n",
    "\n",
    "Prior probability form =\n",
    "$\\begin{eqnarray}\n",
    "\\frac{\\Gamma(23)}{\\Gamma(20)\\Gamma(3)}\\left(x^{20+c1-1}(1-x)^{3+b-1} + x^{3+c1-1}(1-x)^{20+b-1} \\right)\n",
    "\\end{eqnarray}$"
   ]
  },
  {
   "cell_type": "code",
   "execution_count": 1,
   "metadata": {
    "collapsed": false
   },
   "outputs": [
    {
     "data": {
      "image/png": "[encoded data removed]",
      "text/plain": [
       "<matplotlib.figure.Figure at 0x107cbed68>"
      ]
     },
     "metadata": {},
     "output_type": "display_data"
    }
   ],
   "source": [
    "import matplotlib.pyplot as plt\n",
    "from scipy.special import gammaln\n",
    "import numpy as np\n",
    "import scipy.special as sps\n",
    "import math\n",
    "a,b,N,c,p = 0,0,0,[0,0],np.arange(0.0,1.01,0.01)\n",
    "def beta_pdf(x, a, b):\n",
    "    y = math.gamma(23)/(math.gamma(20)*math.gamma(3))\n",
    "    t = np.add(np.power(x,20+a-1)*np.power(1-x,3+b-1) , np.power(x,3+a-1)*np.power(1-x,20+b-1))\n",
    "    y = np.divide(y*t,2)\n",
    "    return y\n",
    "plt.figure(figsize=(5,3))\n",
    "plt.plot(p, beta_pdf(p, a+c[1], b+c[0]), 'r')\n",
    "plt.show()"
   ]
  },
  {
   "cell_type": "markdown",
   "metadata": {
    "collapsed": false
   },
   "source": [
    "Let's start by asking, What is a fake coin? \n",
    "\n",
    "We can describe it with the following model.\n",
    "  \n",
    "$\\pi|m   ~\n",
    "     \\begin{cases}\n",
    "       \\delta(\\pi_1-0.5)&\\quad  m=0 \\quad fair \\: coin \\\\\n",
    "       0.5\\beta(\\pi;3,20)+0.5\\beta(\\pi;20,3)&\\quad m=1 \\quad fake \\: coin \\\\\n",
    "     \\end{cases}\n",
    "$\n",
    "\n",
    "\n",
    "Graphical model:\n",
    "\n",
    "<img src=\"images/graphical_model.jpeg\" width='360' align='center'>\n",
    "                            <center>Figure 1: The graphical model</center>\n",
    "\n",
    "\n",
    "\n",
    "The formula for conditional probability is the following\n",
    "\n",
    "$ p(m|x_{1:N}) = \\dfrac{p(m,x_{1:N})}{p(x_{1:N})} $\n",
    "\n",
    "We need to calculate marginal probabilities for $m=0$, and $m=1$\n",
    "\n",
    "$\n",
    "p(m=0,x_{1:N}) = \\int d\\pi p(x_{1:N},\\pi,m=0)\n",
    "$\n",
    "\n",
    "Let's introduce some variables\n",
    "\n",
    "Variables: \n",
    "\n",
    "$c_1$: Number of 1 (one)\n",
    "\n",
    "$c_0$: Number of 0 (zero)\n",
    "\n",
    "Total number of observations\n",
    "\n",
    "$N = c_0 + c_1$ \n",
    "\n",
    "From the figure 1 where the graphical model is defined,\n",
    "\n",
    "\n",
    "\n",
    "$\n",
    "p(m=0,x_{1:N}) = \\int d\\pi p(m=0)p(\\pi | m = 0) $$\\prod_{i=1}^{n}  p(x_i|\\pi)$$\n",
    "$\n",
    "\n",
    "$\n",
    "= \\int d\\pi \\dfrac{1}{2}\\delta(\\pi-\\dfrac{1}{2})\\pi^{c_1}(1-\\pi)^{c_0}\n",
    "$\n",
    "\n",
    "$\n",
    "= \\dfrac{1}{2} \\dfrac{1}{2}^{c_1} \\dfrac{1}{2}^{c_0}\n",
    "$\n",
    "\n",
    "$\n",
    "p(m=0,x_{1:N}) = \\dfrac{1}{2}^{N+1}\n",
    "$\n",
    "\n",
    "Let's compute $p(m=1,x_{1:N})$ \n",
    "\n",
    "From the figure 1 where the graphical model is defined,\n",
    "\n",
    "$\n",
    "p(m=1,x_{1:N}) = \\int d\\pi p(m=1)p(\\pi | m = 1) $$\\prod_{i=1}^{n}  p(x_i|\\pi)$$\n",
    "$\n",
    "\n",
    "From the integral of prior probability form and with normalization factor $\\dfrac{\\Gamma(23)}{\\Gamma(20)+\\Gamma(3)}$ \n",
    "\n",
    "A reader can check the integral of beta distribution for further references\n",
    "\n",
    "$\n",
    "= \\dfrac{1}{2}\\dfrac{\\Gamma(23)}{\\Gamma(20)+\\Gamma(3)}\n",
    "\\left(\\dfrac{\\Gamma(20+c_1)\\Gamma(3+c_0)}{\\Gamma(23+N)} +\n",
    "\\dfrac{\\Gamma(3+c1)\\Gamma(20+c0)}{\\Gamma(23+N)} \\right)$\n",
    "\n",
    "\n",
    "The log-odds is the ratio of marginal likelihoods\n",
    "\n",
    "$$\n",
    "l(X) = \\log\\left( \\frac{p(X|m = \\text{Fair})}{p(X|m = \\text{Fake})} \\right)\n",
    "$$\n",
    "\n",
    "If $l(X)>0$, we may conclude that the coin is fair and biased when $l<0$.\n"
   ]
  },
  {
   "cell_type": "code",
   "execution_count": 2,
   "metadata": {
    "collapsed": false
   },
   "outputs": [
    {
     "name": "stdout",
     "output_type": "stream",
     "text": [
      "log_odds =  -1.13641225583\n"
     ]
    }
   ],
   "source": [
    "import numpy as np\n",
    "import scipy.special as sps\n",
    "import math\n",
    "\n",
    "def log_odds(c_0, c_1):\n",
    "    # Total number of tosses\n",
    "    N = c_0 + c_1\n",
    "    M_fair = N*np.log(0.5)\n",
    "    M_fake= (0.5*math.gamma(23)/math.gamma(20)/math.gamma(3))\n",
    "    #The inner sum\n",
    "    inner_sum = math.gamma(20+c_1)*math.gamma(3+c_0)/math.gamma(N+23) + math.gamma(c_1+3)*math.gamma(c_0+20)/math.gamma(N+23)\n",
    "    #the result\n",
    "    M_fake = M_fake*(inner_sum)\n",
    "    M_fake = np.log(M_fake)\n",
    "    return M_fair - M_fake\n",
    "# Number of Zeros observed\n",
    "c_0 = 6\n",
    "# Number of Ones\n",
    "c_1 = 1\n",
    "print('log_odds = ', log_odds(c_0, c_1) )"
   ]
  },
  {
   "cell_type": "code",
   "execution_count": 3,
   "metadata": {
    "collapsed": false
   },
   "outputs": [
    {
     "data": {
      "image/png": "[encoded data removed]",
      "text/plain": [
       "<matplotlib.figure.Figure at 0x111a8da20>"
      ]
     },
     "metadata": {},
     "output_type": "display_data"
    }
   ],
   "source": [
    "N = 10\n",
    "l = np.zeros(N+1)\n",
    "for c in range(0,N+1):\n",
    "    l[c] = log_odds(N-c, c)\n",
    "plt.plot(range(0,N+1), l, 'o')\n",
    "plt.plot(range(0,N+1), np.zeros(N+1), 'k:')\n",
    "ax = plt.gca()\n",
    "ax.set_xlabel('Number of ones $c_1$')\n",
    "ax.set_ylabel('log-odds $l(X)$')\n",
    "plt.show()"
   ]
  },
  {
   "cell_type": "code",
   "execution_count": 4,
   "metadata": {
    "collapsed": false
   },
   "outputs": [
    {
     "data": {
      "image/png": "[encoded data removed]",
      "text/plain": [
       "<matplotlib.figure.Figure at 0x111e75cc0>"
      ]
     },
     "metadata": {},
     "output_type": "display_data"
    }
   ],
   "source": [
    "for N in range(1, 25):\n",
    "\n",
    "    l = np.zeros(N+1)\n",
    "\n",
    "    for c in range(0,N+1):\n",
    "        l[c] = log_odds(N-c, c)\n",
    "    \n",
    "    \n",
    "    idx = np.where( np.array(l)<0 )\n",
    "    p = np.arange(0,N+1)/N\n",
    "    plt.plot(N*np.ones_like(p), p, '.k',markersize=4)    \n",
    "    plt.plot(N*np.ones_like(p[idx]), p[idx], '.r',markersize=20)\n",
    "    \n",
    "\n",
    "ax = plt.gca()\n",
    "ax.set_ylim((0,1))\n",
    "ax.set_xlabel('$N$')\n",
    "ax.set_ylabel('$c_1/N$')\n",
    "plt.show()"
   ]
  },
  {
   "cell_type": "markdown",
   "metadata": {},
   "source": [
    "## Question from BOOKLET:\n",
    "My observation:\n",
    "0 0 1 0 0 1 0 0 0 0 1 0 0 0 0 1 0 0 1 0 1 1 0 0 1 1 1 1 1 1 1 1 1 1 1 0 1 1 0 1 1 1 1 1 1 1 1 1 1 1\n",
    "\n",
    "We have two  $\\pi$  values (parameters) which are $\\pi_1$ and $\\pi_2$\n",
    "\n",
    "$\\pi_1 \\sim \\beta (1,1)$\n",
    "\n",
    "$\\pi_2 \\sim \\beta (1,1)$\n",
    "$\\pi_2 =\\beta (1,1) = \\frac{\\Gamma(1)\\Gamma(1)}{\\Gamma(2)}$\n",
    "\n",
    "$X_i: $ \n",
    "\n",
    "$BE(x;\\pi_1) \\: i < m$\n",
    "\n",
    "$BE(x;\\pi_2) \\: i \\geq m$\n",
    "\n",
    "$p(x_i|m,\\pi_1,\\pi_2) = BE(x;\\pi)^{[i <m]}BE(x,\\pi_2)^{[i\\geq m]}   $\n",
    "\n",
    "$=\\pi_1^{x[i<m]}(1-\\pi_1)^{(1-x)[1 <m]}  \\pi_2^{x[i \\geq m]}(1-\\pi_2)^{(1-x)[1 \\geq m]}$ \n",
    "\n",
    "We need to calculate marginal probabilities for each i within i=1 to N.\n",
    "\n",
    "\n",
    "$= \\int d\\pi_1 \\pi_1^{x[i<m]}(1-\\pi_1)^{(1-x)[1 <m]} \\int d\\pi_2 \\pi_2^{x[i \\geq m]}(1-\\pi_2)^{(1-x)[1 \\geq m]} $\n",
    "\n",
    "Variables:\n",
    "\n",
    "x[i<m][0] =number of zeros before i'th number\n",
    "\n",
    "x[i<m][1] =number of ones before i'th number\n",
    "\n",
    "x[i>=m][0] =number of zeros after i'th number including itself\n",
    "\n",
    "x[i>=m][1] =number of ones after i'th number including itself\n",
    "\n",
    "$= \\dfrac{1}{N}\\left(\\dfrac{\\Gamma(2)}{\\Gamma(1)\\Gamma(1)}\\dfrac{\\Gamma(1+x[i<m][1])\\Gamma(1+x[i<m][0])}{\\Gamma(2+i)}\\right)\n",
    "\\left(\\dfrac{\\Gamma(2)}{\\Gamma(1)\\Gamma(1)}\\dfrac{\\Gamma(1+x[i>=m][1])\\Gamma(1+x[i>=m][0])}{\\Gamma(2+N-i)}\\right)$\n"
   ]
  },
  {
   "cell_type": "code",
   "execution_count": 5,
   "metadata": {
    "collapsed": false
   },
   "outputs": [],
   "source": [
    "obs = \"00100100001000010010110011111111111011011111111111\"\n",
    "obs = [int(i) for i in obs]\n",
    "#find i<m counts\n",
    "def less_prob(obs,cp):\n",
    "    tmp = obs[0:cp]\n",
    "    return len(tmp) - np.sum(tmp),np.sum(tmp)\n",
    "#find i>=m counts\n",
    "def geq_prob(obs,cp):\n",
    "    tmp = obs[cp:]\n",
    "    return  len(tmp) - np.sum(tmp) , np.sum(tmp)\n",
    "\n",
    "def count_update(obs):\n",
    "    result =  []\n",
    "    for i in range(0,len(obs)):\n",
    "        x = {'i<m': {'0':0,'1':0},'i>=m': {'0':0,'1':0}}\n",
    "        x['i<m']['0'],x['i<m']['1'] = less_prob(obs,i)\n",
    "        x['i>=m']['0'],x['i>=m']['1'] = geq_prob(obs,i)\n",
    "        result.append(x)\n",
    "    return result\n",
    "x = count_update(obs)\n",
    "def marginal_likelihood(obs):\n",
    "    all_x = count_update(obs)\n",
    "    result = []\n",
    "    N = len(obs)\n",
    "    for i in range(0,N):\n",
    "        x = all_x[i]\n",
    "        #normalization\n",
    "        tmp = (math.gamma(2)/(math.gamma(1)+math.gamma(1)))*(math.gamma(1+1)/(math.gamma(1)+math.gamma(1)))\n",
    "        #less than\n",
    "        tmp = tmp*math.gamma(x['i<m']['0']+1)*math.gamma(x['i<m']['1']+1)/math.gamma(2 + i)\n",
    "        #greater than\n",
    "        tmp = tmp*math.gamma(x['i>=m']['0']+1)*math.gamma(x['i>=m']['1']+1)/math.gamma(2+N-i)\n",
    "        tmp = tmp/N\n",
    "        result.append(tmp)\n",
    "    return result"
   ]
  },
  {
   "cell_type": "code",
   "execution_count": 17,
   "metadata": {
    "collapsed": false
   },
   "outputs": [
    {
     "data": {
      "image/png": "[encoded data removed]",
      "text/plain": [
       "<matplotlib.figure.Figure at 0x1120072b0>"
      ]
     },
     "metadata": {},
     "output_type": "display_data"
    },
    {
     "name": "stdout",
     "output_type": "stream",
     "text": [
      "Most likely change point is 24\n"
     ]
    }
   ],
   "source": [
    "probs = marginal_likelihood(obs)\n",
    "plt.plot(range(0,len(obs)),probs)\n",
    "plt.show()\n",
    "print(\"Most likely change point is\",np.argmax(probs))"
   ]
  }
 ],
 "metadata": {
  "kernelspec": {
   "display_name": "Python 3",
   "language": "python",
   "name": "python3"
  },
  "language_info": {
   "codemirror_mode": {
    "name": "ipython",
    "version": 3
   },
   "file_extension": ".py",
   "mimetype": "text/x-python",
   "name": "python",
   "nbconvert_exporter": "python",
   "pygments_lexer": "ipython3",
   "version": "3.6.0"
  }
 },
 "nbformat": 4,
 "nbformat_minor": 2
}
