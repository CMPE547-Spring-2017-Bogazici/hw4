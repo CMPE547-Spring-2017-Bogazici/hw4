{
 "cells": [
  {
   "cell_type": "markdown",
   "metadata": {},
   "source": [
    "# Homework 4 Bayesian Statistics and Machine Learning\n",
    "#### Deniz Ekiz\n",
    "#### 2016700051\n",
    "\n",
    "## Q1: \n",
    "\n",
    "\n",
    "Repeat the fake/fair coin example covered in class with a prior probability of form 0.5Beta(20,3) + 0.5Beta(3,20)\n",
    "Derive the marginal likelhood and create plots similar to the ones in notes/ModelingExamples.ipynb section Fair/Fake coin.\n",
    "## Solution 1:\n",
    "\n",
    "Prior probability form =\n",
    "$\\begin{eqnarray}\n",
    "\\frac{\\Gamma(23)}{\\Gamma(20)\\Gamma(3)}\\left(x^{20+c1-1}(1-x)^{3+b-1} + x^{3+c1-1}(1-x)^{20+b-1} \\right)\n",
    "\\end{eqnarray}$"
   ]
  },
  {
   "cell_type": "code",
   "execution_count": 54,
   "metadata": {
    "collapsed": false
   },
   "outputs": [
    {
     "data": {
      "image/png": "[encoded data removed]",
      "text/plain": [
       "<matplotlib.figure.Figure at 0x110c29e10>"
      ]
     },
     "metadata": {},
     "output_type": "display_data"
    }
   ],
   "source": [
    "import matplotlib.pyplot as plt\n",
    "from scipy.special import gammaln\n",
    "import numpy as np\n",
    "import scipy.special as sps\n",
    "import math\n",
    "#savefigs = \n",
    "\n",
    "def beta_pdf(x, a, b):\n",
    "    \n",
    "    y = math.gamma(23)/(math.gamma(20)*math.gamma(3))\n",
    "    #print y\n",
    "    #y = gammaln(23) -gammaln(20)\n",
    "    #y = y/math.gamma(23+a+b)\n",
    "    #print np.power(x,20+a-1)\n",
    "    #print np.power(1-x,20+b-1)\n",
    "    t = np.add(np.power(x,20+a-1)*np.power(1-x,3+b-1) , np.power(x,3+a-1)*np.power(1-x,20+b-1))\n",
    "    y = np.divide(y*t,2)\n",
    "    #print y\n",
    "    return y\n",
    "\n",
    "a = 0\n",
    "b = 0\n",
    "\n",
    "xx = [1,1,1,1,1,0,1,1, 1,0,1,0,1,1,1,1,0, 1,1,1,1,1,1,1]\n",
    "\n",
    "p = np.arange(0.0,1.01,0.01)\n",
    "\n",
    "c = [0,0]\n",
    "N = 0\n",
    "plt.figure(figsize=(5,3))\n",
    "plt.plot(p, beta_pdf(p, a+c[1], b+c[0]), 'r')\n",
    "plt.show()"
   ]
  },
  {
   "cell_type": "markdown",
   "metadata": {
    "collapsed": false
   },
   "source": [
    "Let's start by asking, What is a fake coin? \n",
    "\n",
    "We can describe it with the following model.\n",
    "  \n",
    "$\\pi|m   ~\n",
    "     \\begin{cases}\n",
    "       \\delta(\\pi_1-0.5)&\\quad  m=0 \\quad fair \\: coin \\\\\n",
    "       0.5\\beta(\\pi;3,20)+0.5\\beta(\\pi;20,3)&\\quad m=1 \\quad fake \\: coin \\\\\n",
    "     \\end{cases}\n",
    "$\n",
    "\n",
    "\n",
    "Graphical model:\n",
    "\n",
    "<img src=\"images/graphical_model.jpeg\" width='360' align='center'>\n",
    "                            <center>Figure 1: The graphical model</center>\n",
    "\n",
    "\n",
    "\n",
    "The formula for conditional probability is the following\n",
    "\n",
    "$ p(m|x_{1:N}) = \\dfrac{p(m,x_{1:N})}{p(x_{1:N})} $\n",
    "\n",
    "We need to calculate marginal probabilities for $m=0$, and $m=1$\n",
    "\n",
    "$\n",
    "p(m=0,x_{1:N}) = \\int d\\pi p(x_{1:N},\\pi,m=0)\n",
    "$\n",
    "\n",
    "Let's introduce some variables\n",
    "\n",
    "Variables: \n",
    "\n",
    "$c_1$: Number of 1 (one)\n",
    "\n",
    "$c_0$: Number of 0 (zero)\n",
    "\n",
    "Total number of observations\n",
    "\n",
    "$N = c_0 + c_1$ \n",
    "\n",
    "From the figure 1 where the graphical model is defined,\n",
    "\n",
    "\n",
    "\n",
    "$\n",
    "p(m=0,x_{1:N}) = \\int d\\pi p(m=0)p(\\pi | m = 0) $$\\prod_{i=1}^{n}  p(x_i|\\pi)$$\n",
    "$\n",
    "\n",
    "$\n",
    "= \\int d\\pi \\dfrac{1}{2}\\delta(\\pi-\\dfrac{1}{2})\\pi^{c_1}(1-\\pi)^{c_0}\n",
    "$\n",
    "\n",
    "$\n",
    "= \\dfrac{1}{2} \\dfrac{1}{2}^{c_1} \\dfrac{1}{2}^{c_0}\n",
    "$\n",
    "\n",
    "$\n",
    "p(m=0,x_{1:N}) = \\dfrac{1}{2}^{N+1}\n",
    "$\n",
    "\n",
    "Let's compute $p(m=1,x_{1:N})$ \n",
    "\n",
    "From the figure 1 where the graphical model is defined,\n",
    "\n",
    "$\n",
    "p(m=1,x_{1:N}) = \\int d\\pi p(m=1)p(\\pi | m = 1) $$\\prod_{i=1}^{n}  p(x_i|\\pi)$$\n",
    "$\n",
    "\n",
    "From the integral of prior probability form and with normalization factor $\\dfrac{\\Gamma(23)}{\\Gamma(20)+\\Gamma(3)}$ \n",
    "\n",
    "A reader can check the integral of beta distribution for further references\n",
    "\n",
    "$\n",
    "= \\dfrac{1}{2}\\dfrac{\\Gamma(23)}{\\Gamma(20)+\\Gamma(3)}\n",
    "\\left(\\dfrac{\\Gamma(20+c_1)\\Gamma(3+c_0)}{\\Gamma(23+N)} +\n",
    "\\dfrac{\\Gamma(3+c1)\\Gamma(20+c0)}{\\Gamma(23+N)} \\right)$\n",
    "\n",
    "\n",
    "The log-odds is the ratio of marginal likelihoods\n",
    "\n",
    "$$\n",
    "l(X) = \\log\\left( \\frac{p(X|m = \\text{Fair})}{p(X|m = \\text{Fake})} \\right)\n",
    "$$\n",
    "\n",
    "If $l(X)>0$, we may conclude that the coin is fair and biased when $l<0$.\n"
   ]
  },
  {
   "cell_type": "code",
   "execution_count": 75,
   "metadata": {
    "collapsed": false
   },
   "outputs": [
    {
     "name": "stdout",
     "output_type": "stream",
     "text": [
      "('log_odds = ', -1.1364122558339167)\n"
     ]
    }
   ],
   "source": [
    "import numpy as np\n",
    "import scipy.special as sps\n",
    "import math\n",
    "\n",
    "def log_odds(c_0, c_1):\n",
    "    # Total number of tosses\n",
    "    N = c_0 + c_1\n",
    "    M_fair = N*np.log(0.5)\n",
    "    #M_fake = (sps.gamma(20+c_1)*sps.gamma(3+c_0))/sps.gamma(23+N)\n",
    "    #print M_fake\n",
    "    #M_fake = M_fake + M_fake*sps.gamma(3+c_1)*sps.gamma(20+c_0)/sps.gamma(23+N)\n",
    "    #print M_fake\n",
    "    #M_fake = M_fake*sps.gamma(23)/(sps.gamma(20)*sps.gamma(3))\n",
    "    #Normalization\n",
    "    M_fake= (0.5*math.gamma(23)/math.gamma(20)/math.gamma(3))\n",
    "    #The inner suö\n",
    "    inner_sum = math.gamma(20+c_1)*math.gamma(3+c_0)/math.gamma(N+23) + math.gamma(c_1+3)*math.gamma(c_0+20)/math.gamma(N+23)\n",
    "    #the result\n",
    "    M_fake = M_fake*(inner_sum)\n",
    "    M_fake = np.log(M_fake)\n",
    "    return M_fair - M_fake\n",
    "\n",
    "# Number of Zeros observed\n",
    "c_0 = 6\n",
    "# Number of Ones\n",
    "c_1 = 1\n",
    "\n",
    "def log_odds2(c_0, c_1):\n",
    "    # Total number of tosses\n",
    "    N = c_0 + c_1\n",
    "    \n",
    "    M_fair = N*np.log(0.5)\n",
    "    M_fake = 0.5 * (sps.gamma(23)/(sps.gamma(20)*sps.gamma(3)))\n",
    "    M_fake = M_fake * ( ((sps.gamma(20+c_1)*sps.gamma(3+c_0))/sps.gamma(23+c_0+c_1)) + ((sps.gamma(3+c_1)*sps.gamma(20+c_0))/sps.gamma(23+c_0+c_1)) )\n",
    "    M_fake = np.log(M_fake)\n",
    "    return M_fair - M_fake\n",
    "\n",
    "\n",
    "print('log_odds = ', log_odds(c_0, c_1) )"
   ]
  },
  {
   "cell_type": "code",
   "execution_count": 76,
   "metadata": {
    "collapsed": false
   },
   "outputs": [
    {
     "data": {
      "image/png": "[encoded data removed]",
      "text/plain": [
       "<matplotlib.figure.Figure at 0x110336d10>"
      ]
     },
     "metadata": {},
     "output_type": "display_data"
    }
   ],
   "source": [
    "\n",
    "N = 10\n",
    "\n",
    "l = np.zeros(N+1)\n",
    "\n",
    "for c in range(0,N+1):\n",
    "    l[c] = log_odds(N-c, c)\n",
    "\n",
    "plt.plot(range(0,N+1), l, 'o')\n",
    "plt.plot(range(0,N+1), np.zeros(N+1), 'k:')\n",
    "ax = plt.gca()\n",
    "ax.set_xlabel('Number of ones $c_1$')\n",
    "ax.set_ylabel('log-odds $l(X)$')\n",
    "plt.show()"
   ]
  },
  {
   "cell_type": "code",
   "execution_count": 77,
   "metadata": {
    "collapsed": false
   },
   "outputs": [
    {
     "data": {
      "image/png": "[encoded data removed]",
      "text/plain": [
       "<matplotlib.figure.Figure at 0x110a86cd0>"
      ]
     },
     "metadata": {},
     "output_type": "display_data"
    }
   ],
   "source": [
    "for N in range(1, 25):\n",
    "\n",
    "    l = np.zeros(N+1)\n",
    "\n",
    "    for c in range(0,N+1):\n",
    "        l[c] = log_odds(N-c, c)\n",
    "    \n",
    "    \n",
    "    idx = np.where( np.array(l)<0 )\n",
    "    p = np.arange(0,N+1)/N\n",
    "    plt.plot(N*np.ones_like(p), p, '.k',markersize=4)    \n",
    "    plt.plot(N*np.ones_like(p[idx]), p[idx], '.r',markersize=20)\n",
    "    \n",
    "\n",
    "ax = plt.gca()\n",
    "ax.set_ylim((0,1))\n",
    "ax.set_xlabel('$N$')\n",
    "ax.set_ylabel('$c_1/N$')\n",
    "plt.show()"
   ]
  },
  {
   "cell_type": "markdown",
   "metadata": {},
   "source": [
    "## Question from BOOKLET:\n",
    "My observation:\n",
    "0 0 1 0 0 1 0 0 0 0 1 0 0 0 0 1 0 0 1 0 1 1 0 0 1 1 1 1 1 1 1 1 1 1 1 0 1 1 0 1 1 1 1 1 1 1 1 1 1 1\n",
    "\n",
    "We have two  $\\pi$  values (parameters) which are $\\pi_1$ and $\\pi_2$\n",
    "\n",
    "$\\pi_1 \\sim \\beta (1,1)$\n",
    "\n",
    "$\\pi_2 \\sim \\beta (1,1)$\n",
    "$\\pi_2 =\\beta (1,1) = \\frac{\\Gamma(1)\\Gamma(1)}{\\Gamma(2)}$\n",
    "\n",
    "$X_i: $ \n",
    "\n",
    "$BE(x;\\pi_1) \\: i < m$\n",
    "\n",
    "$BE(x;\\pi_2) \\: i \\geq m$\n",
    "\n",
    "$p(x_i|m,\\pi_1,\\pi_2) = BE(x;\\pi)^{[i <m]}BE(x,\\pi_2)^{[i\\geq m]}   $\n",
    "\n",
    "$=\\pi_1^{x[i<m]}(1-\\pi_1)^{(1-x)[1 <m]}  \\pi_2^{x[i \\geq m]}(1-\\pi_2)^{(1-x)[1 \\geq m]}$ \n",
    "\n",
    "Instead of integral take the logarithm "
   ]
  },
  {
   "cell_type": "code",
   "execution_count": 20,
   "metadata": {
    "collapsed": false
   },
   "outputs": [],
   "source": [
    "pi1 = np.random.beta(1,1,50)\n",
    "pi2 = np.random.beta(1,1,50)\n"
   ]
  },
  {
   "cell_type": "code",
   "execution_count": 26,
   "metadata": {
    "collapsed": false
   },
   "outputs": [
    {
     "data": {
      "text/plain": [
       "([], <a list of 0 Text yticklabel objects>)"
      ]
     },
     "execution_count": 26,
     "metadata": {},
     "output_type": "execute_result"
    },
    {
     "data": {
      "image/png": "[encoded data removed]",
      "text/plain": [
       "<matplotlib.figure.Figure at 0x11a76e7d0>"
      ]
     },
     "metadata": {},
     "output_type": "display_data"
    }
   ],
   "source": [
    "obs = \"00100100001000010010110011111111111011011111111111\"\n",
    "obs = [int(i) for i in obs]\n",
    "a= 1\n",
    "b=1\n",
    "#cp change point (m)\n",
    "def less_prob(obs,cp):\n",
    "    tmp = obs[0:cp]\n",
    "    return np.sum(tmp)/len(temp)\n",
    "\n",
    "def geq_prob(obs,cp):\n",
    "    tmp = obs[cp:]\n",
    "    return np.sum(tmp)/len(temp)\n",
    "\n",
    "def berno(p1,p2,x):\n",
    "    y = (p1**x)*(1-p1)**(1-x)*(p2**x)*(1-p2)**(1-x)\n",
    "    return y\n",
    "\n",
    "p = np.arange(0.0,1.00,0.02)\n",
    "\n",
    "c = [0,0]\n",
    "N = 0\n",
    "plt.figure(figsize=(5,3))\n",
    "dist = berno(pi1,pi2,p)\n",
    "plt.plot(p, dist, 'r')\n",
    "plt.xticks([0,1])\n",
    "plt.yticks([])"
   ]
  },
  {
   "cell_type": "code",
   "execution_count": 18,
   "metadata": {
    "collapsed": false
   },
   "outputs": [
    {
     "data": {
      "text/plain": [
       "2.43290200817664e+17"
      ]
     },
     "execution_count": 18,
     "metadata": {},
     "output_type": "execute_result"
    }
   ],
   "source": [
    "math.gamma(3)*math.gamma(20)"
   ]
  }
 ],
 "metadata": {
  "kernelspec": {
   "display_name": "Python 2",
   "language": "python",
   "name": "python2"
  },
  "language_info": {
   "codemirror_mode": {
    "name": "ipython",
    "version": 2
   },
   "file_extension": ".py",
   "mimetype": "text/x-python",
   "name": "python",
   "nbconvert_exporter": "python",
   "pygments_lexer": "ipython2",
   "version": "2.7.13"
  }
 },
 "nbformat": 4,
 "nbformat_minor": 2
}
