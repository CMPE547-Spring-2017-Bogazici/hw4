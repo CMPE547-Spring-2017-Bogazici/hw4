{
 "cells": [
  {
   "cell_type": "markdown",
   "metadata": {
    "deletable": true,
    "editable": true
   },
   "source": [
    "# CMPE547 - HW4"
   ]
  },
  {
   "cell_type": "code",
   "execution_count": 2,
   "metadata": {
    "collapsed": true,
    "deletable": true,
    "editable": true
   },
   "outputs": [],
   "source": [
    "from IPython.display import Image"
   ]
  },
  {
   "cell_type": "markdown",
   "metadata": {
    "deletable": true,
    "editable": true
   },
   "source": [
    "## 1) Fake/fair coin"
   ]
  },
  {
   "cell_type": "markdown",
   "metadata": {
    "deletable": true,
    "editable": true
   },
   "source": [
    "Problem: Given a sequence of coin tosses $X = \\{x^{(n)}\\}_{n=1\\dots N}$, determine if the coin is fair or fake. Take the prior probability in the form: 0.5Beta(20,3) + 0.5Beta(3,20)."
   ]
  },
  {
   "cell_type": "markdown",
   "metadata": {
    "deletable": true,
    "editable": true
   },
   "source": [
    "This problem can be modeled as follows:\n",
    "\n",
    "$$\\begin{eqnarray}\n",
    "\\pi_1|m & \\sim & \\left\\{ \\begin{array}{cc} \\delta(\\pi_1 - 0.5) & m = 0\\\\ 0.5*(\\mathcal{B}(\\pi; 20, 3) + \\mathcal{B}(\\pi; 3,20 ))  & m = 1 \\end{array} \\right.\n",
    "\\end{eqnarray}$$\n",
    "\n",
    "For $n = 1\\dots N$\n",
    "\n",
    "$$\\begin{eqnarray}\n",
    "x^{(n)}| \\pi_1 \\sim \\mathcal{BE}(x; \\pi_1)\n",
    "\\end{eqnarray}$$\n",
    "\n",
    "where \n",
    "- m indicates if the coin is fake or not. If m=0, the coin is fair. Else, it is fake. \n",
    "- a fair coin has an arbitrary probability $\\pi_1$ between 0 and 1.\n",
    "- a fair coin has $\\pi_1=0.5$\n"
   ]
  },
  {
   "cell_type": "markdown",
   "metadata": {
    "deletable": true,
    "editable": true
   },
   "source": [
    "The aim is to calculate the marginal likelihoods for $m=0$ and $m=1$ : $P(x^{(n)}|m)$ \n",
    "\n",
    "The Bayesian DAG of the model is illustrated below."
   ]
  },
  {
   "cell_type": "code",
   "execution_count": 3,
   "metadata": {
    "collapsed": false,
    "deletable": true,
    "editable": true
   },
   "outputs": [
    {
     "data": {
      "image/png": "[encoded data removed]",
      "text/plain": [
       "<IPython.core.display.Image object>"
      ]
     },
     "execution_count": 3,
     "metadata": {
      "image/png": {
       "width": "300px"
      }
     },
     "output_type": "execute_result"
    }
   ],
   "source": [
    "Image(filename='d1.png', width='300px') "
   ]
  },
  {
   "cell_type": "markdown",
   "metadata": {
    "deletable": true,
    "editable": true
   },
   "source": [
    "Hence,\n",
    "\n",
    "$$\\begin{eqnarray}\n",
    "p(x^{(n)}| m) & = & \\int d\\pi_1 p(x^{(n)} | \\pi_1) p(\\pi_1|m)\n",
    "\\end{eqnarray}$$"
   ]
  },
  {
   "cell_type": "markdown",
   "metadata": {
    "deletable": true,
    "editable": true
   },
   "source": [
    "**Case 1: Not Fake **\n",
    "\n",
    "$$\\begin{eqnarray}\n",
    "m & = & 0 \\\\\n",
    "p(\\pi_1|m) & = & \\delta(\\pi_1 - 0.5) \\\\\n",
    "p(x^{(n)}| m)  & = & \\int d\\pi_1 p(x^{(n)} | \\pi_1)\\delta(\\pi_1 - 0.5)\\\\\n",
    "\\end{eqnarray}$$\n",
    "\n",
    "Only for $\\pi_1 = 0.5$, the integral gives yields non-zero values. Thus,\n",
    "\n",
    "$$\\begin{eqnarray}\n",
    "p(x^{(n)}| m)  & = & \\prod_{n=1}^N \\left(\\frac{1}{2}\\right)^{x^{(n)}} \\left(\\frac{1}{2}\\right)^{1-x^{(n)}} \\\\\n",
    " & = & \\prod_{n=1}^N \\left(\\frac{1}{2}\\right) \\\\\n",
    " & = & \\frac{1}{2^N}\n",
    "\\end{eqnarray}$$"
   ]
  },
  {
   "cell_type": "markdown",
   "metadata": {
    "deletable": true,
    "editable": true
   },
   "source": [
    "**Case 2: Fake**\n",
    "\n",
    "$$\\begin{eqnarray}\n",
    "m & = & 1 \\\\\n",
    "p(\\pi_1|m) & = & 0.5*(\\mathcal{B}(\\pi; 20, 3) + \\mathcal{B}(\\pi; 3,20 )) \\\\\n",
    "p(x^{(n)}| m)  & = & \\int d\\pi_1 p(x^{(n)} | \\pi_1)*0.5*(\\mathcal{B}(\\pi; 20, 3) + \\mathcal{B}(\\pi; 3,20 ))\\\\\n",
    "p(x^{(n)}| m)  & = & 0.5 * \\int d\\pi_1 (p(\\pi_1; 20, 3) + p(\\pi_1; 3, 20)) \\prod_{n=1}^{N} p(x^{(n)}| \\pi_1) \\\\\n",
    "p(x^{(n)}| m)  & = & 0.5 * \\int d\\pi_1 \\left(\\prod_{n=1}^N \\pi_1^{x^{(n)}} \\left(1-\\pi_1\\right)^{1-x^{(n)}}  \\right)  (\\mathcal{B}(\\pi; 20, 3) + \\mathcal{B}(\\pi; 3, 20))  \\\\\n",
    "p(x^{(n)}| m)  & = & 0.5 * \\left( \\left(\\int d\\pi_1 \\left(\\prod_{n=1}^N \\pi_1^{x^{(n)}} \\left(1-\\pi_1\\right)^{1-x^{(n)}}  \\right) \\mathcal{B}(\\pi; 20, 3) \\right) + \\left( \\int d\\pi_1 \\left(\\prod_{n=1}^N \\pi_1^{x^{(n)}} \\left(1-\\pi_1\\right)^{1-x^{(n)}}  \\right) \\mathcal{B}(\\pi; 3, 20) \\right) \\right) \\\\\n",
    "p(x^{(n)}| m)  & = & 0.5 * \\left( \\left( \\frac{\\Gamma(20 + 3)}{\\Gamma(20)\\Gamma(3)} \\int d\\pi_1 \\left(1-\\pi_1\\right)^{c_0+20-1} \\pi_1^{c_1+3-1} \\right) + \\left( \\frac{\\Gamma(3 + 20)}{\\Gamma(3)\\Gamma(20)} \\int d\\pi_1 \\left(1-\\pi_1\\right)^{c_0+3-1} \\pi_1^{c_1+20-1} \\right) \\right) \\\\ \n",
    "p(x^{(n)}| m)  & = & 0.5 * \\left( \\left( \\frac{\\Gamma(20 + 3)}{\\Gamma(20)\\Gamma(3)} \\frac{\\Gamma(c_0+20)\\Gamma(c_1+3)}{\\Gamma(c_0 + c_1 +20 + 3)} \\right) + \\left( \\frac{\\Gamma(3 + 20)}{\\Gamma(3)\\Gamma(20)} \\frac{\\Gamma(c_0+3)\\Gamma(c_1+20)}{\\Gamma(c_0 + c_1 +3 + 20)} \\right) \\right)\n",
    "\\end{eqnarray}$$\n"
   ]
  },
  {
   "cell_type": "markdown",
   "metadata": {
    "deletable": true,
    "editable": true
   },
   "source": [
    "The log-odds of the marginal likelihoods is defined as follows:\n",
    "\n",
    "$$\\begin{eqnarray}\n",
    "l(X) & = & \\log\\left( \\frac{p(X|m = 0)}{p(X|m = 1)} \\right) \\\\\n",
    "l(X) & = & \\log (p(X|m = 0)) - log (p(X|m = 1))\n",
    "\\end{eqnarray}$$\n",
    "\n",
    "Therefore, \n",
    "- if $l(X)<0$, the coin is fake\n",
    "- if $l(X)>0$, the coin is fair\n",
    "- if $l(X)=0$, we cannot make any claims, as it's equally probably that the coin is fake or fair\n",
    "\n"
   ]
  },
  {
   "cell_type": "code",
   "execution_count": 4,
   "metadata": {
    "collapsed": false,
    "deletable": true,
    "editable": true
   },
   "outputs": [
    {
     "name": "stdout",
     "output_type": "stream",
     "text": [
      "log_odds =  -2.80007084501\n"
     ]
    }
   ],
   "source": [
    "import numpy as np\n",
    "import scipy.special as sps # for gamma fct\n",
    "\n",
    "## This code is a modified version of the corresponding one in ModelingExamples.ipynb written by Ali Taylan Cemgil.\n",
    "\n",
    "def log_odds(c_0, c_1, a1, b1, a2, b2):\n",
    "    # Total number of tosses\n",
    "    N = c_0 + c_1\n",
    "    \n",
    "    M_fair = N*np.log(1/2) # since p(X|m=0)= (1/2)^N\n",
    "    M_fake = (sps.gamma(a1+b1)*sps.gamma(c_0+a1)*sps.gamma(c_1+b1))/ (sps.gamma(a1)*sps.gamma(b1)*sps.gamma(N+a1 + b1)) \n",
    "    M_fake += (sps.gamma(a2+b2)*sps.gamma(c_0+a2)*sps.gamma(c_1+b2))/ (sps.gamma(a2)*sps.gamma(b2)*sps.gamma(N+a2 + b2)) \n",
    "    M_fake = 0.5* M_fake\n",
    "    M_fake = np.log(M_fake)\n",
    "    \n",
    "    return M_fair - M_fake\n",
    "\n",
    "# Number of Zeros observed (yazi)\n",
    "c_0 = 9\n",
    "# Number of Ones observed (tura)\n",
    "c_1 = 1\n",
    "\n",
    "# Prior\n",
    "a1 = 20\n",
    "b1 = 3\n",
    "a2= 3\n",
    "b2= 20\n",
    "\n",
    "\n",
    "print('log_odds = ', log_odds(c_0, c_1, a1, b1, a2, b2) )"
   ]
  },
  {
   "cell_type": "code",
   "execution_count": 5,
   "metadata": {
    "collapsed": false,
    "deletable": true,
    "editable": true
   },
   "outputs": [
    {
     "data": {
      "image/png": "[encoded data removed]",
      "text/plain": [
       "<matplotlib.figure.Figure at 0x10eae36a0>"
      ]
     },
     "metadata": {},
     "output_type": "display_data"
    }
   ],
   "source": [
    "import matplotlib.pyplot as plt\n",
    "\n",
    "## This code is a modified version of the corresponding one in ModelingExamples.ipynb written by Ali Taylan Cemgil.\n",
    "\n",
    "a1 = 20\n",
    "b1 = 3\n",
    "a2 = 3\n",
    "b2 = 20\n",
    "N = 10\n",
    "\n",
    "l = np.zeros(N+1)\n",
    "\n",
    "for c in range(0,N+1):\n",
    "    l[c] = log_odds(N-c, c, a1, b1, a2, b2)\n",
    "\n",
    "plt.plot(range(0,N+1), l, 'o')\n",
    "plt.plot(range(0,N+1), np.zeros(N+1), 'k:')\n",
    "ax = plt.gca()\n",
    "ax.set_xlabel('Number of ones $c_1$')\n",
    "ax.set_ylabel('log-odds $l(X)$')\n",
    "plt.show()"
   ]
  },
  {
   "cell_type": "code",
   "execution_count": 6,
   "metadata": {
    "collapsed": false,
    "deletable": true,
    "editable": true
   },
   "outputs": [
    {
     "data": {
      "image/png": "[encoded data removed]",
      "text/plain": [
       "<matplotlib.figure.Figure at 0x10faa2240>"
      ]
     },
     "metadata": {},
     "output_type": "display_data"
    }
   ],
   "source": [
    "## This code is a modified version of the corresponding one in ModelingExamples.ipynb written by Ali Taylan Cemgil.\n",
    "\n",
    "a1 = 20\n",
    "b1 = 3\n",
    "a2 = 3\n",
    "b2 = 20\n",
    "\n",
    "for N in range(1, 40):\n",
    "\n",
    "    l = np.zeros(N+1);\n",
    "\n",
    "    for c in range(0,N+1):\n",
    "        l[c] = log_odds(N-c, c, a1, b1, a2, b2);\n",
    "    \n",
    "    \n",
    "    idx = np.where( np.array(l)<0 )\n",
    "    p = np.arange(0,N+1)/N\n",
    "    plt.plot(N*np.ones_like(p), p, '.k',markersize=4)    \n",
    "    plt.plot(N*np.ones_like(p[idx]), p[idx], '.r',markersize=20)\n",
    "    \n",
    "\n",
    "ax = plt.gca()\n",
    "ax.set_ylim((0,1))\n",
    "ax.set_xlabel('$N$')\n",
    "ax.set_ylabel('$c_1/N$')\n",
    "plt.show()"
   ]
  },
  {
   "cell_type": "markdown",
   "metadata": {
    "collapsed": true,
    "deletable": true,
    "editable": true
   },
   "source": [
    "# 2) Changepoint"
   ]
  },
  {
   "cell_type": "markdown",
   "metadata": {
    "deletable": true,
    "editable": true
   },
   "source": [
    "Problem: Suppose we observe the following dataset $x_t \\in 0, 1$ for $t = 1 . . . 50$\n",
    "\n",
    "00100100001000010010110011111111111011011111111111\n",
    "\n",
    "Suppose we know that the data comes from the following model: \n",
    "\n",
    "$$\\begin{eqnarray}\n",
    "\\pi_1 & \\sim & \\begin{array}{cc} \\mathcal{B}(1,1) \\end{array} \\\\ \n",
    "\\pi_2 & \\sim & \\begin{array}{cc} \\mathcal{B}(1,1) \\end{array} \\\\\n",
    "x_t & \\sim & \\left\\{ \\begin{array}{cc} \\mathcal{BE}(x_t; \\pi_1), & t <= n\\\\ \\mathcal{BE}(x_t; \\pi_2), & t>n \\end{array} \\right. \\\\ \n",
    "\\end{eqnarray}$$\n",
    "\n",
    "Derive, compute and plot the posterior probability of $p(n|x_{1:50})$ given that $n$ is a-priori uniform."
   ]
  },
  {
   "cell_type": "markdown",
   "metadata": {
    "deletable": true,
    "editable": true
   },
   "source": [
    "$n$ is the changing point. $n \\sim \\mathcal{U}(0,50) = p(n)$"
   ]
  },
  {
   "cell_type": "markdown",
   "metadata": {
    "deletable": true,
    "editable": true
   },
   "source": [
    "We will calculate the posterior probability for each possible value of $n$. So, we will calculate $p(n=i|x_{1:50})$ where $i \\in [0,50]$. \n",
    "\n",
    "If $i=0$, all data is coming from $\\pi_2$ and if $i=50$, all data is coming from $\\pi_1$."
   ]
  },
  {
   "cell_type": "code",
   "execution_count": 7,
   "metadata": {
    "collapsed": false,
    "deletable": true,
    "editable": true
   },
   "outputs": [
    {
     "data": {
      "image/png": "[encoded data removed]",
      "text/plain": [
       "<IPython.core.display.Image object>"
      ]
     },
     "execution_count": 7,
     "metadata": {
      "image/png": {
       "width": "300px"
      }
     },
     "output_type": "execute_result"
    }
   ],
   "source": [
    "Image(filename='d2.png', width='300px') "
   ]
  },
  {
   "cell_type": "markdown",
   "metadata": {
    "deletable": true,
    "editable": true
   },
   "source": [
    "$$\\begin{eqnarray}\n",
    "p(n=i|x_{1:50}) & = & \\frac{p(x_{1:50}|n=i)*p(n=i)}{p(x_{1:50})}  \\\\\n",
    "p(n=i|x_{1:50}) & = & \\frac{p(x_{1:50},n=i)}{p(x_{1:50})} \\\\\n",
    "p(n=i|x_{1:50}) & = & \\frac{\\int \\int d\\pi_1 d\\pi_2 p(x_{1:50},n=i,\\pi_1, \\pi_2)}{p(x_{1:50})} \\\\\n",
    "p(n=i|x_{1:50}) & = & \\frac{\\int \\int d\\pi_1 d\\pi_2 p(x_{1:50},n=i,\\pi_1, \\pi_2)}{\\int \\int d\\pi_1 d\\pi_2 \\sum_{n=0}^{50} p(x_{1:50}, n, \\pi_1, \\pi_2)}\n",
    "\\end{eqnarray}$$\n",
    "\n",
    "Using the Bayesian network above, we can factor the joint probabilities as follows:\n",
    "\n",
    "$$\\begin{eqnarray}\n",
    "p(n=i|x_{1:50}) & = & \\frac{\\int \\int d\\pi_1 d\\pi_2 p(x_{1:50}|n=i,\\pi_1, \\pi_2)p(\\pi_1)p(\\pi_2)p(n=i)}{\\int \\int d\\pi_1 d\\pi_2 \\sum_{n=1}^{50} p(x_{1:50}|n, \\pi_1, \\pi_2)p(\\pi_1)p(\\pi_2)p(n)} \\\\ \n",
    "p(n=i|x_{1:50}) & = & \\frac{(1/51)\\int \\int d\\pi_1 d\\pi_2 p(\\pi_1)p(\\pi_2) \\prod_{t=1}^{i} (\\pi_1)^{x_t}(1-\\pi_1)^{1-x_t} \\prod_{t=i+1}^{50} (\\pi_2)^{x_t}(1-\\pi_2)^{1-x_t}}{\\int \\int d\\pi_1 d\\pi_2 p(\\pi_1)p(\\pi_2) (1/51) \\sum_{n=0}^{50} \\prod_{t=1}^{n} (\\pi_1)^{x_t}(1-\\pi_1)^{1-x_t} \\prod_{t=n+1}^{50}(\\pi_2)^{x_t}(1-\\pi_2)^{1-x_t}} \\\\\n",
    "\\end{eqnarray}$$\n",
    "\n",
    "Define \n",
    "\n",
    "the number of 0s before a changepoint $n$ as $nb0$\n",
    "\n",
    "the number of 1s before a changepoint $n$  as $nb1$\n",
    "\n",
    "the number of 0s after a changepoint $n$  as $na0$\n",
    "\n",
    "the number of 1s after a changepoint $n$  as $na1$\n",
    "\n",
    "$$\\begin{eqnarray}\n",
    "p(n=i|x_{1:50}) & = & \\frac{\\int \\int d\\pi_1 d\\pi_2 \\mathcal{B}(1,1)\\mathcal{B}(1,1) (\\pi_1)^{ib1}(1-\\pi_1)^{ib0} (\\pi_2)^{ia1}(1-\\pi_2)^{ia0}}{\\sum_{n=0}^{50} \\int \\int d\\pi_1 d\\pi_2 \\mathcal{B}(1,1)\\mathcal{B}(1,1)(\\pi_1)^{nb1}(1-\\pi_1)^{nb0} (\\pi_2)^{na1}(1-\\pi_2)^{na0}} \\\\\n",
    "p(n=i|x_{1:50}) & = & \\frac{\\int d\\pi_1 \\mathcal{B}(1,1) \\frac{\\Gamma(1+ia1)\\Gamma(1+ia0)}{\\Gamma(2+ia1+ia0)} (\\pi_1)^{ib1}(1-\\pi_1)^{ib0}}{ \\sum_{n=0}^{50} \\int d\\pi_1 \\mathcal{B}(1,1)(\\pi_1)^{nb1}(1-\\pi_1)^{nb0} \\frac{\\Gamma(1+na1)\\Gamma(1+na0)}{\\Gamma(2+na1+na0)} } \\\\\n",
    "p(n=i|x_{1:50}) & = & \\frac{\\frac{\\Gamma(1+ia1)\\Gamma(1+ia0)}{\\Gamma(2+ia1+ia0)} \\int d\\pi_1 \\mathcal{B}(1,1)(\\pi_1)^{ib1}(1-\\pi_1)^{ib0}}{\\sum_{n=0}^{50} \\frac{\\Gamma(1+na1)\\Gamma(1+na0)}{\\Gamma(2+na1+na0)} \\int d\\pi_1 \\mathcal{B}(1,1)(\\pi_1)^{na1}(1-\\pi_1)^{na0}} \\\\\n",
    "p(n=i|x_{1:50}) & = & \\frac{\\frac{\\Gamma(1+ia1)\\Gamma(1+ia0)}{\\Gamma(2+ia1+ia0)} \\frac{\\Gamma(1+ib1)\\Gamma(1+ib0)}{\\Gamma(2+ib1+ib0)}}{\\sum_{n=0}^{50} \\frac{\\Gamma(1+na1)\\Gamma(1+na0)}{\\Gamma(2+na1+na0)} \\frac{\\Gamma(1+nb1)\\Gamma(1+nb0)}{\\Gamma(2+nb1+nb0)}} \\\\\n",
    "p(n=i|x_{1:50}) & \\propto & \\frac{\\Gamma(1+ia1)\\Gamma(1+ia0)}{\\Gamma(2+ia1+ia0)} \\frac{\\Gamma(1+ib1)\\Gamma(1+ib0)}{\\Gamma(2+ib1+ib0)}\\\\\n",
    "\\end{eqnarray}$$\n"
   ]
  },
  {
   "cell_type": "markdown",
   "metadata": {
    "collapsed": true,
    "deletable": true,
    "editable": true
   },
   "source": [
    "The programming part will be implemented by Wednesday midnight."
   ]
  }
 ],
 "metadata": {
  "kernelspec": {
   "display_name": "Python 3",
   "language": "python",
   "name": "python3"
  },
  "language_info": {
   "codemirror_mode": {
    "name": "ipython",
    "version": 3
   },
   "file_extension": ".py",
   "mimetype": "text/x-python",
   "name": "python",
   "nbconvert_exporter": "python",
   "pygments_lexer": "ipython3",
   "version": "3.6.0"
  }
 },
 "nbformat": 4,
 "nbformat_minor": 2
}
