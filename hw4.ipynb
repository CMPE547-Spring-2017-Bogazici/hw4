{
 "cells": [
  {
   "cell_type": "markdown",
   "metadata": {},
   "source": [
    "# Finding if a Coin is Fair or Fake \n",
    "\n",
    "We consider the folowing problem: Given a sequence of coin tosses $X = \\{x^{(n)}\\}_{n=1\\dots N}$, determine if the coin is fair or fake.\n",
    "\n",
    "This can be cast as a model selection problem:\n",
    "\n",
    "\\begin{eqnarray}\n",
    "\\pi_1|m & \\sim & \\left\\{ \\begin{array}{cc} \\delta(\\pi_1 - 0.5) & m = 0\\\\ 0.5\\mathcal{B}(\\pi; a, b)+ 0.5\\mathcal{B}(\\pi; b,a) & m = 1 \\end{array} \\right.\n",
    "\\end{eqnarray}\n",
    "For $n = 1\\dots N$\n",
    "\\begin{eqnarray}\n",
    "x^{(n)}| \\pi_1 & \\sim & \\mathcal{BE}(x; \\pi_1)\n",
    "\\end{eqnarray}\n",
    "\n",
    "This model defines the following:\n",
    "- The indicator $m$, that denotes if the coin is fake,\n",
    "- What a fake coin is: a fake coin is one that has an arbitrary probability $\\pi_1$ between $0$ and $1$. \n",
    "- What a fair coin is: a fair coin has $\\pi_1 = 0.5$\n",
    "\n",
    "We need to calculate the marginal likelihoods for $m=0$ and $m=1$\n",
    "\\begin{eqnarray}\n",
    "p(X| m) & = & \\int d\\pi_1 p(X | \\pi_1) p(\\pi_1|m)\n",
    "\\end{eqnarray}\n",
    "\n",
    "###### Not Fake\n",
    "\\begin{eqnarray}\n",
    "p(X| m) & = & \\int d\\pi_1 p(X| \\pi_1) \\delta(\\pi_1 - 0.5) \\\\\n",
    "& = & \\prod_{n=1}^N \\left(\\frac{1}{2}\\right)^{x^{(n)}} \\left(\\frac{1}{2}\\right)^{1-x^{(n)}} = \\frac{1}{2^N}\n",
    "\\end{eqnarray}\n",
    "\n",
    "###### Fake\n",
    "\n",
    "\\begin{eqnarray}\n",
    "p(X| m) & = & \\int d\\pi_1 p(\\pi_1; a, b) \\prod_{n=1}^{N} p(x^{(n)}| \\pi_1)  \\\\\n",
    "& = &  \\int d\\pi_1 \\left(\\prod_{n=1}^N \\left(1-\\pi_1\\right)^{1-x^{(n)}} \\pi_1^{x^{(n)}} \\right) \\left(0.5\\mathcal{B}(\\pi; a, b)+ 0.5\\mathcal{B}(\\pi; b,a)\\right) \\\\\n",
    "& = & \\frac{\\Gamma(a + b)}{\\Gamma(a)\\Gamma(b)} \\left(0.5\\int d\\pi_1 \\left(1-\\pi_1\\right)^{c_0+a-1} \\pi_1^{c_1+b-1} + 0.5\\int d\\pi_1 \\left(1-\\pi_1\\right)^{c_0+b-1} \\pi_1^{c_1+a-1}\\right) \\\\\n",
    "& = & \\frac{\\Gamma(a + b)}{\\Gamma(a)\\Gamma(b)} \\left(0.5\\frac{\\Gamma(c_0+a)\\Gamma(c_1+b)}{\\Gamma(c_0 + c_1 +a + b)}\n",
    "+0.5\\frac{\\Gamma(c_0+b)\\Gamma(c_1+a)}{\\Gamma(c_0 + c_1 +a + b)}\\right)\\\\\n",
    "& = & 0.5\\frac{\\Gamma(a + b)}{\\Gamma(a)\\Gamma(b)} \\left(\\frac{\\Gamma(c_0+a)\\Gamma(c_1+b)+\\Gamma(c_0+b)\\Gamma(c_1+a)}{\\Gamma(c_0 + c_1 +a + b)}\\right)\n",
    "\\end{eqnarray}"
   ]
  },
  {
   "cell_type": "code",
   "execution_count": 17,
   "metadata": {
    "collapsed": false
   },
   "outputs": [],
   "source": [
    "import numpy as np\n",
    "import matplotlib.pyplot as plt\n",
    "\n",
    "import scipy.special as sps\n",
    "\n",
    "def log_odds(c_0, c_1, a, b):\n",
    "    # Total number of tosses\n",
    "    N = c_0 + c_1\n",
    "    \n",
    "    M_fair = N*np.log(0.5)\n",
    "    M_fake =np.log(0.5)+ sps.gammaln(a+b) - sps.gammaln(a) - sps.gammaln(b) + np.log((sps.gamma(c_0+a) * sps.gamma(c_1+b))+ sps.gamma(c_0+b) * sps.gamma(c_1+a))-sps.gammaln(N+a + b) \n",
    "    return M_fair - M_fake\n",
    "\n",
    "# Number of Zeros observed\n",
    "c_0 = 6\n",
    "# Number of Ones\n",
    "c_1 = 1\n",
    "\n",
    "# Prior\n",
    "a = 20\n",
    "b = 3\n",
    "\n"
   ]
  },
  {
   "cell_type": "code",
   "execution_count": 18,
   "metadata": {
    "collapsed": false
   },
   "outputs": [
    {
     "data": {
      "image/png": "[encoded data removed]",
      "text/plain": [
       "<matplotlib.figure.Figure at 0x2736e129e80>"
      ]
     },
     "metadata": {},
     "output_type": "display_data"
    }
   ],
   "source": [
    "a = 20\n",
    "b = 3\n",
    "N = 10\n",
    "\n",
    "l = np.zeros(N+1)\n",
    "\n",
    "for c in range(0,N+1):\n",
    "    l[c] = log_odds(N-c, c, a, b)\n",
    "\n",
    "plt.plot(range(0,N+1), l, 'o')\n",
    "plt.plot(range(0,N+1), np.zeros(N+1), 'k:')\n",
    "ax = plt.gca()\n",
    "ax.set_xlabel('Number of ones $c_1$')\n",
    "ax.set_ylabel('log-odds $l(X)$')\n",
    "plt.show()"
   ]
  },
  {
   "cell_type": "code",
   "execution_count": 20,
   "metadata": {
    "collapsed": false
   },
   "outputs": [
    {
     "data": {
      "image/png": "[encoded data removed]",
      "text/plain": [
       "<matplotlib.figure.Figure at 0x2736e1864a8>"
      ]
     },
     "metadata": {},
     "output_type": "display_data"
    }
   ],
   "source": [
    "a = 20\n",
    "b = 3\n",
    "\n",
    "for N in range(1, 25):\n",
    "\n",
    "    l = np.zeros(N+1)\n",
    "\n",
    "    for c in range(0,N+1):\n",
    "        l[c] = log_odds(N-c, c, a, b)\n",
    "    \n",
    "    \n",
    "    idx = np.where( np.array(l)<0 )\n",
    "    p = np.arange(0,N+1)/N\n",
    "    plt.plot(N*np.ones_like(p), p, '.k',markersize=4)    \n",
    "    plt.plot(N*np.ones_like(p[idx]), p[idx], '.r',markersize=20)\n",
    "    \n",
    "\n",
    "ax = plt.gca()\n",
    "ax.set_ylim((0,1))\n",
    "ax.set_xlabel('$N$')\n",
    "ax.set_ylabel('$c_1/N$')\n",
    "plt.show()"
   ]
  },
  {
   "cell_type": "markdown",
   "metadata": {},
   "source": [
    "## Change Point\n",
    "\n",
    "The problem can be converted into following model,\n",
    "\n",
    "\\begin{eqnarray}\n",
    "\\pi_1 & \\sim &\\mathcal{B}(1,1)\\\\\n",
    "\\pi_2 & \\sim &\\mathcal{B}(1,1)\\\\\n",
    "x_t & \\sim & \\left\\{ \\begin{array}{cc} BE(x_t:\\pi_1) & t < n\\\\BE(x_t:\\pi_2) & t >= n \\end{array} \\right.\n",
    "\\end{eqnarray}\n",
    "\n",
    "This model defines the following:\n",
    "\n",
    "- $n$ denoting the index of change point and dom(n)={1,...,T} where T is the number of tosses.\n",
    "\n",
    "We need to calculate the posterior probability, if the index of change point is c  \n",
    "\n",
    "\\begin{eqnarray}\n",
    "p(n=c | X) & = & \\frac{p(X |n=c)p(n=c)}{p(X)}\\\\\n",
    "& = & \\frac{\\int \\int d\\pi_1 d\\pi_2 p(X,\\pi_1,\\pi_2,n=c)}{p(X)}\\\\\n",
    "& = & \\frac{\\int \\int d\\pi_1 d\\pi_2p(X,\\pi_1,\\pi_2| n=c)p(n=c)}{\\sum_{i=1}^{T}\\int \\int d\\pi_1 d\\pi_2p(X,\\pi_1,\\pi_1 |n=i)P(n=i)}\\\\\n",
    "& = & \\frac{\\int \\int d\\pi_1 d\\pi_2p(x_1,...,x_{c-1}|\\pi_1)p(x_c,...,x_T|\\pi_2)p(n=c)}{\\sum_{i=1}^{T}\\int \\int d\\pi_1 d\\pi_2p(x1,...x_{i-1}|\\pi_1),p(x_i,...,x_T),|\\pi_2)p(n=i)}\\\\\n",
    "& = & \\frac{\\frac{1}{T} \\int \\int d\\pi_1 d\\pi_2\\prod_{i=1}^{c-1} (1-\\pi_1)^{1-x(i)}(\\pi_1)^{x(i)}\\prod_{i=c}^{T} (1-\\pi_2)^{1-x(i)}(\\pi_2)^{x(i)}}{\\frac{1}{T} \\int \\int d\\pi_1 d\\pi_2 \\sum_{m=1}^{T} \\prod_{i=1}^{m-1} (1-\\pi_1)^{1-x(i)}(\\pi_1)^{x(i)}\\prod_{i=m}^{T} (1-\\pi_2)^{1-x(i)}(\\pi_2)^{x(i)}}\\\\\n",
    "\\end{eqnarray}\n",
    "\n",
    "Let's define $\\lambda_{00}$ as the number of zeros and  $\\lambda_{10}$ number of ones tossed before $\\lambda$'th toss. Also define  $\\lambda_{01}$ as the number of zeros and  $\\lambda_{11}$ number of ones tossed after $\\lambda$'th toss.\n",
    "\n",
    "The posterior probability becomes,\n",
    "\\begin{eqnarray}\n",
    "p(n=c| X) & = & \\frac{\\int\\int d\\pi_1d\\pi_2(1-\\pi_1)^{c_{00}}(\\pi_1)^{c_{01}} (1-\\pi_2)^{c_{01}}(\\pi_2)^{c_{11}}}{\\int\\int d\\pi_1d\\pi_2\\sum_{m=1}^{T} (1-\\pi_1)^{m_{00}}(\\pi_1)^{m_{01}} (1-\\pi_2)^{m_{10}}(\\pi_2)^{m_{11}}}\\\\\n",
    "\\end{eqnarray}\n",
    "\n",
    "Finally we can write down the integrals as gamma functions.\n",
    "\n",
    "\\begin{eqnarray}\n",
    "p(n=c| X)& = & \\frac{\\Gamma(c_{00}+1)\\Gamma(c_{01}+1) \\Gamma(c_{10}+1)\\Gamma(c_{11}+1)}{\\Gamma(c_{00}+c_{01}+2)\\Gamma(c_{10}+c_{11}+2)}\\frac{1}{A}\n",
    "\\end{eqnarray}\n",
    "\n",
    "where \n",
    "\n",
    "\\begin{eqnarray}\n",
    "A=\\frac{1} {\\sum_{m=1}^{T} \\frac{\\Gamma(m_{00}+1)\\Gamma(m_{01}+1)}{\\Gamma(m_{00}+m_{01}+2)} \\frac{\\Gamma(m_{10}+1)\\Gamma(m_{11}+1)}{\\Gamma(m_{10}+m_{11}+2)}}\n",
    "\\end{eqnarray}\n",
    "\n",
    "\n",
    "Since A is only a normalization constant, we can also write\n",
    "\n",
    "\\begin{eqnarray}\n",
    "p(n=c| X) & \\propto & \\frac{\\Gamma(c_{00}+1)\\Gamma(c_{01}+1)}{\\Gamma(c_{00}+c_{01}+2)} \\frac{\\Gamma(c_{10}+1)\\Gamma(c_{11}+1)}{\\Gamma(c_{10}+c_{11}+2)}\n",
    "\\end{eqnarray}\n"
   ]
  },
  {
   "cell_type": "code",
   "execution_count": 158,
   "metadata": {
    "collapsed": false
   },
   "outputs": [
    {
     "name": "stdout",
     "output_type": "stream",
     "text": [
      "Most prabable point: 25\n",
      "Probability: 0.397354855371\n",
      "Log Probability: -0.92292555529\n"
     ]
    },
    {
     "data": {
      "image/png": "[encoded data removed]",
      "text/plain": [
       "<matplotlib.figure.Figure at 0x26d751d5828>"
      ]
     },
     "metadata": {},
     "output_type": "display_data"
    }
   ],
   "source": [
    "import numpy as np\n",
    "import matplotlib.pyplot as plt\n",
    "import scipy.special as sps\n",
    "\n",
    "tosses=[0,0,1,0,0,1,0,0,0,0,1,0,0,0,0,1,0,0,1,0,1,1,0,0,1,1,1,1,1,1,1,1,1,1,1,0,1,1,0,1,1,1,1,1,1,1,1,1,1,1]\n",
    "ones=[0]\n",
    "one_count=0\n",
    "\n",
    "\n",
    "for i in range(0,len(tosses)) :\n",
    "    if tosses[i]==1 :\n",
    "        one_count+=1\n",
    "    ones.append(one_count);    \n",
    "        \n",
    "\n",
    "def prob(c):\n",
    "    c_01=ones[c-1]\n",
    "    c_00=c-1-c_01\n",
    "    c_11=ones[len(tosses)]-ones[c-1]\n",
    "    c_10=len(tosses)-c_01-c_00-c_11\n",
    "    pr=(sps.gamma(c_00+1)*sps.gamma(c_01+1)*sps.gamma(c_10+1)*sps.gamma(c_11+1))/(sps.gamma(c_00+c_01+2)*sps.gamma(c_10+c_11+2))\n",
    "    return pr\n",
    "    \n",
    "\n",
    "\n",
    "posteriors=[]\n",
    "\n",
    "for i in range (1,len(ones)):\n",
    "    posteriors.append(prob(i))\n",
    "    \n",
    "posteriors/=sum(posteriors)\n",
    "print(\"Most prabable point:\",np.argmax(posteriors)+1)\n",
    "print(\"Probability:\",np.max(posteriors))\n",
    "print(\"Log Probability:\",np.log(np.max(posteriors)))\n",
    "\n",
    "\n",
    "n= np.arange(1,len(ones),1)\n",
    "plt.figure(figsize=(16,6))\n",
    "plt.xticks(n)\n",
    "plt.plot(n, posteriors, \"rd--\")\n",
    "#plt.plot(n, np.log(posteriors),  marker='.')\n",
    "\n",
    "plt.show()\n",
    "\n"
   ]
  }
 ],
 "metadata": {
  "kernelspec": {
   "display_name": "Python 3",
   "language": "python",
   "name": "python3"
  },
  "language_info": {
   "codemirror_mode": {
    "name": "ipython",
    "version": 3
   },
   "file_extension": ".py",
   "mimetype": "text/x-python",
   "name": "python",
   "nbconvert_exporter": "python",
   "pygments_lexer": "ipython3",
   "version": "3.6.0"
  }
 },
 "nbformat": 4,
 "nbformat_minor": 2
}
