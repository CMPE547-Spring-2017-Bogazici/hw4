{
 "cells": [
  {
   "cell_type": "markdown",
   "metadata": {},
   "source": [
    "# 1) Fair/fake coin example with probability: 0.5Beta(20,3)+0.5Beta(20,3)"
   ]
  },
  {
   "cell_type": "markdown",
   "metadata": {},
   "source": []
  },
  {
   "cell_type": "code",
   "execution_count": 37,
   "metadata": {
    "collapsed": false
   },
   "outputs": [
    {
     "name": "stdout",
     "output_type": "stream",
     "text": [
      "('log_odds = ', 5.5992028539377188)\n"
     ]
    }
   ],
   "source": [
    "import numpy as np\n",
    "import scipy.special as sps\n",
    "%matplotlib inline\n",
    "import matplotlib\n",
    "import matplotlib.pyplot as plt\n",
    "\n",
    "def log_odds(c_0, c_1, a1, b1, a2, b2):\n",
    "    # Total number of tosses\n",
    "    N = c_0 + c_1\n",
    "    \n",
    "    M_fair = (N+1)*np.log(0.5)\n",
    "    M_fake = np.log(0.5)+0.5*(sps.gammaln(a1+b1) - sps.gammaln(a1) - sps.gammaln(b1) + sps.gammaln(c_0+a1) + sps.gammaln(c_1+b1) - sps.gammaln(N+a1+b1))+0.5*(sps.gammaln(a2+b2) - sps.gammaln(a2) - sps.gammaln(b2) + sps.gammaln(c_0+a2) + sps.gammaln(c_1+b2) - sps.gammaln(N+a2+b2))\n",
    "    \n",
    "    return M_fair - M_fake\n",
    "\n",
    "# Number of Zeros observed\n",
    "c_0 = 20\n",
    "# Number of Ones\n",
    "c_1 = 20\n",
    "\n",
    "# Prior\n",
    "a1 = 20\n",
    "b1 = 3\n",
    "\n",
    "a2 = 3\n",
    "b2 = 20\n",
    "\n",
    "print('log_odds = ', log_odds(c_0, c_1, a1, b1, a2, b2) )"
   ]
  },
  {
   "cell_type": "code",
   "execution_count": 32,
   "metadata": {
    "collapsed": false
   },
   "outputs": [
    {
     "data": {
      "image/png": "[encoded data removed]",
      "text/plain": [
       "<matplotlib.figure.Figure at 0x1066bb710>"
      ]
     },
     "metadata": {},
     "output_type": "display_data"
    }
   ],
   "source": [
    "# Prior\n",
    "a1 = 20\n",
    "b1 = 3\n",
    "a2 = 3\n",
    "b2 = 20\n",
    "\n",
    "N = 50\n",
    "\n",
    "l = np.zeros(N+1)\n",
    "\n",
    "for c in range(0,N+1):\n",
    "    l[c] = log_odds(N-c, c, a1, b1, a2, b2)\n",
    "\n",
    "plt.plot(range(0,N+1), l, 'o')\n",
    "plt.plot(range(0,N+1), np.zeros(N+1), 'k:')\n",
    "ax = plt.gca()\n",
    "ax.set_xlabel('Number of ones $c_1$')\n",
    "ax.set_ylabel('log-odds $l(X)$')\n",
    "plt.show()"
   ]
  },
  {
   "cell_type": "code",
   "execution_count": 36,
   "metadata": {
    "collapsed": false
   },
   "outputs": [
    {
     "data": {
      "image/png": "[encoded data removed]",
      "text/plain": [
       "<matplotlib.figure.Figure at 0x10669a450>"
      ]
     },
     "metadata": {},
     "output_type": "display_data"
    }
   ],
   "source": [
    "for N in range(1, 25):\n",
    "\n",
    "    l = np.zeros(N+1)\n",
    "\n",
    "    for c in range(0,N+1):\n",
    "        l[c] = log_odds(N-c, c, a1, b1, a2, b2)\n",
    "    \n",
    "    \n",
    "    idx = np.where( np.array(l)<0 )\n",
    "    p = np.arange(0,N+1)/N\n",
    "    plt.plot(N*np.ones_like(p), p, '.k',markersize=4)    \n",
    "    plt.plot(N*np.ones_like(p[idx]), p[idx], '.r',markersize=20)\n",
    "    \n",
    "\n",
    "ax = plt.gca()\n",
    "ax.set_ylim((0,1))\n",
    "ax.set_xlabel('$N$')\n",
    "ax.set_ylabel('$c_1/N$')\n",
    "plt.show()"
   ]
  },
  {
   "cell_type": "code",
   "execution_count": null,
   "metadata": {
    "collapsed": true
   },
   "outputs": [],
   "source": []
  }
 ],
 "metadata": {
  "kernelspec": {
   "display_name": "Python 2",
   "language": "python",
   "name": "python2"
  },
  "language_info": {
   "codemirror_mode": {
    "name": "ipython",
    "version": 2
   },
   "file_extension": ".py",
   "mimetype": "text/x-python",
   "name": "python",
   "nbconvert_exporter": "python",
   "pygments_lexer": "ipython2",
   "version": "2.7.10"
  }
 },
 "nbformat": 4,
 "nbformat_minor": 2
}
