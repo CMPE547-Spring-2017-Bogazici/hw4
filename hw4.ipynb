{
 "cells": [
  {
   "cell_type": "code",
   "execution_count": 1,
   "metadata": {
    "collapsed": false
   },
   "outputs": [],
   "source": [
    "import numpy as np\n",
    "import scipy.special as sps\n",
    "import matplotlib.pyplot as plt"
   ]
  },
  {
   "cell_type": "markdown",
   "metadata": {},
   "source": [
    "# Q1"
   ]
  },
  {
   "cell_type": "markdown",
   "metadata": {},
   "source": [
    "Here, the probability distribution for fake coin should be changed with $0.5*\\beta(20,3) + 0,5*\\beta(3,20)$"
   ]
  },
  {
   "cell_type": "code",
   "execution_count": 2,
   "metadata": {
    "collapsed": false
   },
   "outputs": [
    {
     "name": "stdout",
     "output_type": "stream",
     "text": [
      "('log_odds = ', -1.1364122558339171)\n"
     ]
    }
   ],
   "source": [
    "def log_odds(c_0, c_1, a1, b1, a2, b2):\n",
    "    # Total number of tosses\n",
    "    N = c_0 + c_1\n",
    "    \n",
    "    M_fair = N*np.log(0.5)\n",
    "    M_fake1 = 0.5*(sps.gamma(a1+b1)/(sps.gamma(a1)*sps.gamma(b1)))*((sps.gamma(c_0+a1)*sps.gamma(c_1+b1))/sps.gamma(c_0+c_1+a1+b1))\n",
    "    M_fake2 = 0.5*(sps.gamma(a2+b2)/(sps.gamma(a2)*sps.gamma(b2)))*((sps.gamma(c_0+a2)*sps.gamma(c_1+b2))/sps.gamma(c_0+c_1+a2+b2))\n",
    "    M_fake = np.log(M_fake1 + M_fake2)\n",
    "    return M_fair - M_fake\n",
    "\n",
    "# Number of Zeros observed\n",
    "c_0 = 6\n",
    "# Number of Ones\n",
    "c_1 = 1\n",
    "\n",
    "# Prior\n",
    "a1 = 20\n",
    "b1 = 3\n",
    "a2 = 3\n",
    "b2 = 20\n",
    "\n",
    "\n",
    "print('log_odds = ', log_odds(c_0, c_1, a1, b1, a2, b2) )"
   ]
  },
  {
   "cell_type": "code",
   "execution_count": 3,
   "metadata": {
    "collapsed": false
   },
   "outputs": [
    {
     "data": {
      "image/png": "[encoded data removed]",
      "text/plain": [
       "<matplotlib.figure.Figure at 0x1161ba150>"
      ]
     },
     "metadata": {},
     "output_type": "display_data"
    }
   ],
   "source": [
    "a1 = 20\n",
    "b1 = 3\n",
    "a2 = 3\n",
    "b2 = 20\n",
    "N = 10\n",
    "\n",
    "l = np.zeros(N+1)\n",
    "\n",
    "for c in range(0,N+1):\n",
    "    l[c] = log_odds(N-c, c, a1, b1, a2, b2)\n",
    "\n",
    "plt.plot(range(0,N+1), l, 'o')\n",
    "plt.plot(range(0,N+1), np.zeros(N+1), 'k:')\n",
    "ax = plt.gca()\n",
    "ax.set_xlabel('Number of ones $c_1$')\n",
    "ax.set_ylabel('log-odds $l(X)$')\n",
    "plt.show()"
   ]
  },
  {
   "cell_type": "markdown",
   "metadata": {},
   "source": [
    "The graph above illustrates the likelihood of a coin being fair or fake depending on the outcome of 10 toin cosses. If $c_1$ is observed between 3 to 7 times out of 10 tosses, the coin is more likely to be fair. Otherwise, it is more likely that the coin is fake."
   ]
  },
  {
   "cell_type": "code",
   "execution_count": 4,
   "metadata": {
    "collapsed": false
   },
   "outputs": [
    {
     "data": {
      "image/png": "[encoded data removed]",
      "text/plain": [
       "<matplotlib.figure.Figure at 0x1187c3350>"
      ]
     },
     "metadata": {},
     "output_type": "display_data"
    }
   ],
   "source": [
    "a1 = 20\n",
    "b1 = 3\n",
    "a2 = 3\n",
    "b2 = 20\n",
    "\n",
    "for N in range(1, 25):\n",
    "\n",
    "    l = np.zeros(N+1)\n",
    "\n",
    "    for c in range(0,N+1):\n",
    "        l[c] = log_odds(N-c, c, a1, b1, a2, b2)\n",
    "    \n",
    "    \n",
    "    idx = np.where( np.array(l)<0 )\n",
    "    p = np.arange(0,N+1)/float(N)\n",
    "    plt.plot(N*np.ones_like(p), p, '.k',markersize=4)    \n",
    "    plt.plot(N*np.ones_like(p[idx]), p[idx], '.r',markersize=20)\n",
    "    \n",
    "\n",
    "ax = plt.gca()\n",
    "ax.set_ylim((0,1))\n",
    "ax.set_xlabel('$N$')\n",
    "ax.set_ylabel('$c_1/N$')\n",
    "plt.show()"
   ]
  },
  {
   "cell_type": "markdown",
   "metadata": {},
   "source": [
    "The graph above illustrates the possible outcomes of 1 to 25 coin tosses and likelihoods of the coin being fair or fake depending on these outcomes. The red outcomes indicate that the coin is more likely to be fake, and the dots represent that it is more likely to be fair. For example, when three tosses are made, if all tosses end up with all heads or all tails, the coin is more likely to be fake. Otherwise it is more likely to be fair. "
   ]
  },
  {
   "cell_type": "markdown",
   "metadata": {},
   "source": [
    "# Q2 (Exercise Booklet, Q74)"
   ]
  },
  {
   "cell_type": "markdown",
   "metadata": {},
   "source": [
    "We are asked to compute the probability $p(n|x_{1:50})$. Here is the derivation for it, and the result is used below in the coding part:"
   ]
  },
  {
   "cell_type": "markdown",
   "metadata": {},
   "source": [
    "$$\n",
    "p(n=i|x_{1:50})=\\frac{p(n=i,x_{1:50})}{p(x_{1:50})}\n",
    "\\\\\n",
    "p(n=i,x_{1:50})=\\int\\limits_0^1\\int\\limits_0^1 p(n=i,x_{1:50},\\pi_1,\\pi_2)\\,d\\pi_1d\\pi_2 \\\\\n",
    "               =\\int\\limits_0^1\\int\\limits_0^1 p(x_{1:50}|n=i,\\pi_1,\\pi_2)p(n=i)p(\\pi_1)p(\\pi_2)\\,d\\pi_1d\\pi_2\\\\\n",
    "p(x_{1:50}|n=i,\\pi_1,\\pi_2)=\\prod_{i=1}^{50} \\pi_1^{x_i[i < n]} (1-\\pi_1)^{(1-x_i)[i < n]} \\pi_2^{x_i[i \\geq n]} (1-\\pi_2)^{(1-x_i)[i \\geq n]} \\\\\n",
    "=\\bigg(\\prod_{i=1}^{n-1} \\pi_1^{x_i} (1-\\pi_1)^{1-x_i}\\bigg)\\bigg(\\prod_{i=n}^{50} \\pi_2^{x_i} (1-\\pi_2)^{1-x_i}\\bigg) \\\\\n",
    "p(n=i)=\\frac{1}{50}\\\\\n",
    "p(\\pi_1)=p(\\pi_2)=\\beta(\\alpha,\\beta)=\\bigg(\\frac{\\Gamma(\\alpha+\\beta)}{\\Gamma(\\alpha)\\Gamma(\\beta)}\\bigg)\\pi_i^{\\alpha-1}(1-\\pi_i)^{\\beta-1}\\\\\n",
    "\\int\\limits_0^1\\int\\limits_0^1 p(x_{1:50}|n=i,\\pi_1,\\pi_2)p(n=i)p(\\pi_1)p(\\pi_2)\\,d\\pi_1d\\pi_2\\\\\n",
    "=\\frac{1}{50}\\int\\limits_0^1\\int\\limits_0^1\\bigg(\\prod_{i=1}^{n-1} \\pi_1^{x_i} (1-\\pi_1)^{1-x_i}\\bigg)\\bigg(\\prod_{i=n}^{50} \\pi_2^{x_i} (1-\\pi_2)^{1-x_i}\\bigg)\\bigg(\\frac{\\Gamma(\\alpha)\\Gamma(\\beta)}{\\Gamma(\\alpha+\\beta)}\\bigg)^2 \\pi_1^{\\alpha-1}(1-\\pi_1)^{\\beta-1} \\pi_2^{\\alpha-1}(1-\\pi_2)^{\\beta-1} \\,d\\pi_1d\\pi_2 \\\\\n",
    "=\\frac{1}{50}\\bigg(\\frac{\\Gamma(\\alpha+\\beta)}{\\Gamma(\\alpha)\\Gamma(\\beta)}\\bigg)^2\\frac{\\Gamma(\\alpha_1+\\alpha)\\Gamma(\\beta_1+\\beta)}{\\Gamma(\\alpha_1+\\beta_1+\\alpha+\\beta)}\\frac{\\Gamma(\\alpha_2+\\alpha)\\Gamma(\\beta_2+\\beta)}{\\Gamma(\\alpha_2+\\beta_2+\\alpha+\\beta)}\\\\\n",
    "p(n=i|x_{1:50})=\\frac{\\frac{1}{50}\\bigg(\\frac{\\Gamma(\\alpha+\\beta)}{\\Gamma(\\alpha)\\Gamma(\\beta)}\\bigg)^2\\frac{\\Gamma(\\alpha_1+\\alpha)\\Gamma(\\beta_1+\\beta)}{\\Gamma(\\alpha_1+\\beta_1+\\alpha+\\beta)}\\frac{\\Gamma(\\alpha_2+\\alpha)\\Gamma(\\beta_2+\\beta)}{\\Gamma(\\alpha_2+\\beta_2+\\alpha+\\beta)}}{\\sum_{n}^{}\\frac{1}{50}\\bigg(\\frac{\\Gamma(\\alpha+\\beta)}{\\Gamma(\\alpha)\\Gamma(\\beta)}\\bigg)^2\\frac{\\Gamma(\\alpha_1+\\alpha)\\Gamma(\\beta_1+\\beta)}{\\Gamma(\\alpha_1+\\beta_1+\\alpha+\\beta)}\\frac{\\Gamma(\\alpha_2+\\alpha)\\Gamma(\\beta_2+\\beta)}{\\Gamma(\\alpha_2+\\beta_2+\\alpha+\\beta)}}\n",
    "$$<br><br>\n",
    "Here $\\alpha_1$ represents the number of 1's until n, and $\\beta_1$ represents the number of 0's until n. Similarly, $\\alpha_2$ and $\\beta_2$ represent 1's and 0's after n, respectively. Also $\\alpha$ and $\\beta$ are both equal to 1 as given in the question."
   ]
  },
  {
   "cell_type": "code",
   "execution_count": 5,
   "metadata": {
    "collapsed": false
   },
   "outputs": [],
   "source": [
    "data=[0,0,1,0,0,1,0,0,0,0,1,0,0,0,0,1,0,0,1,0,1,1,0,0,1,1,1,1,1,1,1,1,1,1,1,0,1,1,0,1,1,1,1,1,1,1,1,1,1,1]"
   ]
  },
  {
   "cell_type": "code",
   "execution_count": 6,
   "metadata": {
    "collapsed": false
   },
   "outputs": [
    {
     "name": "stdout",
     "output_type": "stream",
     "text": [
      "[1.9455554716026005e-05, 2.6111402382034899e-05, 4.8354448855620185e-05, 1.9107806402624108e-05, 3.2370872023269081e-05, 6.3392957712235274e-05, 2.7772152902503065e-05, 5.207278669219326e-05, 0.0001091048864026906, 0.00025261977544007596, 0.00064303215566564756, 0.00022727860674389268, 0.0005721699190755344, 0.001593901917424703, 0.0049351926035816731, 0.017118949343673931, 0.0051788418182542968, 0.018701373232584959, 0.078086435602723173, 0.023859744211943198, 0.10907311639745461, 0.035467831555815642, 0.012953468916037022, 0.062608433094178961, 0.39735485537105569, 0.13754591147459613, 0.051828894178833358, 0.021034453806344708, 0.0091183839160509077, 0.0041944566013834162, 0.0020366970933712344, 0.0010395641414082343, 0.00055591665315948358, 0.00031065930617735845, 0.00018106999560051748, 0.00010993535447174279, 0.00042785651470083681, 0.00024684029694279047, 0.00014768222894013104, 0.00091193776370530877, 0.00050955280810141427, 0.00029359947514414822, 0.00017449064414251712, 0.00010707380436018096, 6.7983367847733911e-05, 4.4829612131476726e-05, 3.0903817724677568e-05, 2.2534033757577389e-05, 1.7781958611421614e-05, 1.6003762750279454e-05]\n"
     ]
    }
   ],
   "source": [
    "alpha=1\n",
    "beta=1\n",
    "prior=(sps.gamma(alpha+beta)/(sps.gamma(alpha)*sps.gamma(beta)))**2\n",
    "probs=[]\n",
    "for n in range(len(data)):\n",
    "    alpha1=sum(data[0:n])\n",
    "    beta1=n-alpha1\n",
    "    alpha2=sum(data[n:len(data)])\n",
    "    beta2=len(data)-n-alpha2\n",
    "    part1=sps.gamma(alpha+alpha1)*sps.gamma(beta+beta1)/sps.gamma(alpha+beta+alpha1+beta1)\n",
    "    part2=sps.gamma(alpha+alpha2)*sps.gamma(beta+beta2)/sps.gamma(alpha+beta+alpha2+beta2)\n",
    "    probs.append(part1*part2*prior/len(data))\n",
    "probsum=sum(probs)\n",
    "for i in range(len(probs)):\n",
    "    probs[i]=probs[i]/probsum\n",
    "print probs"
   ]
  },
  {
   "cell_type": "markdown",
   "metadata": {},
   "source": [
    "From the probabilities found, we can find the most likely value for $n$. Below, it can be seen that the max probability is at the 24th index (i.e. 25th character). "
   ]
  },
  {
   "cell_type": "code",
   "execution_count": 7,
   "metadata": {
    "collapsed": false
   },
   "outputs": [
    {
     "data": {
      "text/plain": [
       "24"
      ]
     },
     "execution_count": 7,
     "metadata": {},
     "output_type": "execute_result"
    }
   ],
   "source": [
    "probs.index(max(probs))"
   ]
  },
  {
   "cell_type": "markdown",
   "metadata": {},
   "source": [
    "The graph below illustrates the probabilities found graphically. The maximum value is at 24 as pointed out previously.  "
   ]
  },
  {
   "cell_type": "code",
   "execution_count": 8,
   "metadata": {
    "collapsed": false
   },
   "outputs": [
    {
     "data": {
      "image/png": "[encoded data removed]",
      "text/plain": [
       "<matplotlib.figure.Figure at 0x1161cb950>"
      ]
     },
     "metadata": {},
     "output_type": "display_data"
    }
   ],
   "source": [
    "plt.plot(range(1,51),probs)\n",
    "plt.show()"
   ]
  },
  {
   "cell_type": "code",
   "execution_count": null,
   "metadata": {
    "collapsed": true
   },
   "outputs": [],
   "source": []
  }
 ],
 "metadata": {
  "kernelspec": {
   "display_name": "Python 2",
   "language": "python",
   "name": "python2"
  },
  "language_info": {
   "codemirror_mode": {
    "name": "ipython",
    "version": 2
   },
   "file_extension": ".py",
   "mimetype": "text/x-python",
   "name": "python",
   "nbconvert_exporter": "python",
   "pygments_lexer": "ipython2",
   "version": "2.7.13"
  }
 },
 "nbformat": 4,
 "nbformat_minor": 2
}
