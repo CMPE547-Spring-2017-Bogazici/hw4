{
 "cells": [
  {
   "cell_type": "markdown",
   "metadata": {},
   "source": [
    "# Q1\n",
    "\n",
    "\\begin{eqnarray}\n",
    "\\pi_1|m & \\sim & \\left\\{ \\begin{array}{cc} \\delta(\\pi_1 - 0.5) & m = 0\\\\ 0.5*\\mathcal{B}(\\pi; 20, 3) + 0.5*\\mathcal{B}(\\pi; 3, 20)  & m = 1 \\end{array} \\right.\n",
    "\\end{eqnarray}\n",
    "For $n = 1\\dots N$\n",
    "\\begin{eqnarray}\n",
    "x^{(n)}| \\pi_1 & \\sim & \\mathcal{BE}(x; \\pi_1)\n",
    "\\end{eqnarray}\n",
    "\n",
    "This model defines the following:\n",
    "- The indicator $m$, that denotes if the coin is fake,\n",
    "- What a fake coin is: a fake coin is one that has an arbitrary probability $\\pi_1$ between $0$ and $1$. \n",
    "- What a fair coin is: a fair coin has $\\pi_1 = 0.5$\n",
    "\n",
    "We need to calculate the marginal likelihoods for $m=0$ and $m=1$\n",
    "\\begin{eqnarray}\n",
    "p(X| m) & = & \\int d\\pi_1 p(X | \\pi_1) p(\\pi_1|m)\n",
    "\\end{eqnarray}\n",
    "\n",
    "###### Not Fake\n",
    "\\begin{eqnarray}\n",
    "p(X| m) & = & \\int d\\pi_1 p(X| \\pi_1) \\delta(\\pi_1 - 0.5) \\\\\n",
    "& = & \\prod_{n=1}^N \\left(\\frac{1}{2}\\right)^{x^{(n)}} \\left(\\frac{1}{2}\\right)^{1-x^{(n)}} = \\frac{1}{2^N}\n",
    "\\end{eqnarray}\n",
    "\n",
    "###### Fake\n",
    "Because of the linearity of integration we can seperately calculate the integrals and multiply by constant and add them up to get marginal likelihood\n",
    "\\begin{eqnarray}\n",
    "p(X| m) & = & \\int d\\pi_1 p(\\pi_1; a, b) \\prod_{n=1}^{N} p(x^{(n)}| \\pi_1)  \\\\\n",
    "& = &  \\int d\\pi_1 \\left(\\prod_{n=1}^N \\left(1-\\pi_1\\right)^{1-x^{(n)}} \\pi_1^{x^{(n)}} \\right) \\mathcal{B}(\\pi; a, b) \\\\\n",
    "& = & \\frac{\\Gamma(a + b)}{\\Gamma(a)\\Gamma(b)} \\int d\\pi_1 \\left(1-\\pi_1\\right)^{c_0+a-1} \\pi_1^{c_1+b-1} \\\\\n",
    "& = & \\frac{\\Gamma(a + b)}{\\Gamma(a)\\Gamma(b)} \\frac{\\Gamma(c_0+a)\\Gamma(c_1+b)}{\\Gamma(c_0 + c_1 +a + b)}\n",
    "\\end{eqnarray}\n",
    "\n",
    "\\begin{eqnarray}\n",
    "p1 & = & \\int d\\pi_1 p(\\pi_1; 20, 3) \\prod_{n=1}^{N} p(x^{(n)}| \\pi_1)  \\\\\n",
    "& = &  \\int d\\pi_1 \\left(\\prod_{n=1}^N \\left(1-\\pi_1\\right)^{1-x^{(n)}} \\pi_1^{x^{(n)}} \\right) \\mathcal{B}(\\pi; 20, 3) \\\\\n",
    "& = & \\frac{\\Gamma(20 + 3)}{\\Gamma(20)\\Gamma(3)} \\int d\\pi_1 \\left(1-\\pi_1\\right)^{c_0+20-1} \\pi_1^{c_1+3-1} \\\\\n",
    "& = & \\frac{\\Gamma(20 + 3)}{\\Gamma(20)\\Gamma(3)} \\frac{\\Gamma(c_0+20)\\Gamma(c_1+3)}{\\Gamma(c_0 + c_1 +20 + 3)}\n",
    "\\end{eqnarray}\n",
    "\n",
    "\\begin{eqnarray}\n",
    "p2 & = & \\int d\\pi_1 p(\\pi_1; 3, 20) \\prod_{n=1}^{N} p(x^{(n)}| \\pi_1)  \\\\\n",
    "& = &  \\int d\\pi_1 \\left(\\prod_{n=1}^N \\left(1-\\pi_1\\right)^{1-x^{(n)}} \\pi_1^{x^{(n)}} \\right) \\mathcal{B}(\\pi; 3, 20) \\\\\n",
    "& = & \\frac{\\Gamma(3 + 20)}{\\Gamma(3)\\Gamma(20)} \\int d\\pi_1 \\left(1-\\pi_1\\right)^{c_0+3-1} \\pi_1^{c_1+20-1} \\\\\n",
    "& = & \\frac{\\Gamma(3 + 20)}{\\Gamma(3)\\Gamma(20)} \\frac{\\Gamma(c_0+3)\\Gamma(c_1+20)}{\\Gamma(c_0 + c_1 +3 + 20)}\n",
    "\\end{eqnarray}\n",
    "\n",
    "For the fake coin, marginal likelihood is \n",
    "\n",
    "\\begin{eqnarray}\n",
    "p(X| m) & = & 0.5*p1 + 0.5*p2\n",
    "\\end{eqnarray}"
   ]
  },
  {
   "cell_type": "markdown",
   "metadata": {},
   "source": [
    "The log-odds is the ratio of marginal likelihoods\n",
    "\n",
    "$$\n",
    "l(X) = \\log\\left( \\frac{p(X|m = \\text{Fair})}{p(X|m = \\text{Fake})} \\right)\n",
    "$$\n",
    "\n",
    "If $l(X)>0$, we may conclude that the coin is fair and biased when $l<0$."
   ]
  },
  {
   "cell_type": "code",
   "execution_count": 23,
   "metadata": {
    "collapsed": true
   },
   "outputs": [],
   "source": [
    "import numpy as np\n",
    "import scipy.special as sps\n",
    "%matplotlib inline\n",
    "import matplotlib.pyplot as plt"
   ]
  },
  {
   "cell_type": "code",
   "execution_count": 16,
   "metadata": {
    "collapsed": true
   },
   "outputs": [],
   "source": [
    "def fair(c_0, c_1):\n",
    "    # Total number of tosses\n",
    "    N = c_0 + c_1\n",
    "\n",
    "    M_fair = (0.5)**N\n",
    "    \n",
    "    return M_fair"
   ]
  },
  {
   "cell_type": "code",
   "execution_count": 17,
   "metadata": {
    "collapsed": true
   },
   "outputs": [],
   "source": [
    "def fake(c_0, c_1, a, b):\n",
    "    \n",
    "    M_fake = (sps.gamma(a+b) * sps.gamma(c_0 + a) * sps.gamma(c_1 + b)) / (sps.gamma(a) * sps.gamma(b) * sps.gamma(c_0 + c_1 + a + b)) \n",
    "   \n",
    "    return M_fake"
   ]
  },
  {
   "cell_type": "code",
   "execution_count": 20,
   "metadata": {
    "collapsed": false
   },
   "outputs": [],
   "source": [
    "def log_odds(c_0, c_1):\n",
    "    \n",
    "    odds = fair(c_0, c_1) / (0.5 * fake(c_0,c_1,20,3) + 0.5 * fake(c_0,c_1,3,20))\n",
    "    \n",
    "    return np.log(odds)"
   ]
  },
  {
   "cell_type": "code",
   "execution_count": 21,
   "metadata": {
    "collapsed": false
   },
   "outputs": [
    {
     "name": "stdout",
     "output_type": "stream",
     "text": [
      "-1.13641225583\n"
     ]
    }
   ],
   "source": [
    "print log_odds(6,1)"
   ]
  },
  {
   "cell_type": "code",
   "execution_count": 24,
   "metadata": {
    "collapsed": false
   },
   "outputs": [
    {
     "data": {
      "image/png": "[encoded data removed]",
      "text/plain": [
       "<matplotlib.figure.Figure at 0x10baf5750>"
      ]
     },
     "metadata": {},
     "output_type": "display_data"
    }
   ],
   "source": [
    "N = 10\n",
    "\n",
    "l = np.zeros(N+1)\n",
    "\n",
    "for c in range(0,N+1):\n",
    "    l[c] = log_odds(N-c, c)\n",
    "\n",
    "plt.plot(range(0,N+1), l, 'o')\n",
    "plt.plot(range(0,N+1), np.zeros(N+1), 'k:')\n",
    "ax = plt.gca()\n",
    "ax.set_xlabel('Number of ones $c_1$')\n",
    "ax.set_ylabel('log-odds $l(X)$')\n",
    "plt.show()"
   ]
  },
  {
   "cell_type": "code",
   "execution_count": 46,
   "metadata": {
    "collapsed": false
   },
   "outputs": [
    {
     "data": {
      "image/png": "[encoded data removed]",
      "text/plain": [
       "<matplotlib.figure.Figure at 0x10c2d01d0>"
      ]
     },
     "metadata": {},
     "output_type": "display_data"
    }
   ],
   "source": [
    "for N in range(1, 50):\n",
    "\n",
    "    l = np.zeros(N+1)\n",
    "\n",
    "    for c in range(0,N+1):\n",
    "        l[c] = log_odds(N-c, c)\n",
    "        #print l[c]\n",
    "    \n",
    "    \n",
    "    idx = np.where( np.array(l)<0 )\n",
    "    p = np.arange(0,1.01,1.0/N)\n",
    "    plt.plot(N*np.ones_like(p), p, '.k',markersize=4)    \n",
    "    plt.plot(N*np.ones_like(p[idx]), p[idx], '.r',markersize=20)\n",
    "    \n",
    "\n",
    "ax = plt.gca()\n",
    "ax.set_ylim((0,1))\n",
    "ax.set_xlabel('$N$')\n",
    "ax.set_ylabel('$c_1/N$')\n",
    "plt.show()"
   ]
  }
 ],
 "metadata": {
  "anaconda-cloud": {},
  "kernelspec": {
   "display_name": "Python [default]",
   "language": "python",
   "name": "python2"
  },
  "language_info": {
   "codemirror_mode": {
    "name": "ipython",
    "version": 2
   },
   "file_extension": ".py",
   "mimetype": "text/x-python",
   "name": "python",
   "nbconvert_exporter": "python",
   "pygments_lexer": "ipython2",
   "version": "2.7.12"
  }
 },
 "nbformat": 4,
 "nbformat_minor": 2
}
