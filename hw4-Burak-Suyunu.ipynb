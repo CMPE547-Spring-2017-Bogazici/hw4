{
 "cells": [
  {
   "cell_type": "markdown",
   "metadata": {},
   "source": [
    "# Finding if a Coin is Fair or Fake \n",
    "\n",
    "We consider the folowing problem: Given a sequence of coin tosses $X = \\{x^{(n)}\\}_{n=1\\dots N}$, determine if the coin is fair or fake.\n",
    "\n",
    "This can be cast as a model selection problem:\n",
    "\n",
    "\\begin{eqnarray}\n",
    "\\pi|m & \\sim & \\left\\{ \\begin{array}{cc} \\delta(\\pi - 0.5) & m = 0\\\\ 0.5 \\mathcal{B}(\\pi; 20, 3) + 0.5 \\mathcal{B}(\\pi; 3, 20) & m = 1 \\end{array} \\right.\n",
    "\\end{eqnarray}\n",
    "For $n = 1\\dots N$\n",
    "\\begin{eqnarray}\n",
    "x^{(n)}| \\pi & \\sim & \\mathcal{BE}(x; \\pi)\n",
    "\\end{eqnarray}\n",
    "\n",
    "This model defines the following:\n",
    "- The indicator $m$, that denotes if the coin is fake,\n",
    "- What a fake coin is: a fake coin is one that has an arbitrary probability $\\pi$ between $0$ and $1$. \n",
    "- What a fair coin is: a fair coin has $\\pi = 0.5$\n",
    "\n",
    "We need to calculate the marginal likelihoods for $m=0$ and $m=1$\n",
    "\\begin{eqnarray}\n",
    "p(X| m) & = & \\int d\\pi p(X | \\pi) p(\\pi|m)\n",
    "\\end{eqnarray}\n",
    "\n",
    "###### Not Fake\n",
    "\\begin{eqnarray}\n",
    "p(X| m) & = & \\int d\\pi p(X| \\pi) \\delta(\\pi - 0.5) \\\\\n",
    "& = & \\prod_{n=1}^N \\left(\\frac{1}{2}\\right)^{x^{(n)}} \\left(\\frac{1}{2}\\right)^{1-x^{(n)}} = \\frac{1}{2^N}\n",
    "\\end{eqnarray}\n",
    "\n",
    "###### Fake\n",
    "\n",
    "\\begin{eqnarray}\n",
    "p(X| m) & = & \\int d\\pi \\frac{1}{2} p(\\pi; 20, 3) \\prod_{n=1}^{N} p(x^{(n)}| \\pi) + \\int d\\pi \\frac{1}{2} p(\\pi; 3, 20) \\prod_{n=1}^{N} p(x^{(n)}| \\pi) \\\\\n",
    "& = &  \\int d\\pi \\frac{1}{2} \\left(\\prod_{n=1}^N \\left(1-\\pi\\right)^{1-x^{(n)}} \\pi^{x^{(n)}} \\right) \\mathcal{B}(\\pi; 20, 3) + \\int d\\pi \\frac{1}{2} \\left(\\prod_{n=1}^N \\left(1-\\pi\\right)^{1-x^{(n)}} \\pi^{x^{(n)}} \\right) \\mathcal{B}(\\pi; 3, 20) \\\\\n",
    "& = & \\frac{1}{2} \\left(\\frac{\\Gamma(20 + 3)}{\\Gamma(20)\\Gamma(3)} \\int d\\pi \\left(1-\\pi\\right)^{c_0+3-1} \\pi^{c_1+20-1}\\right) + \\frac{1}{2} \\left(\\frac{\\Gamma(3 + 20)}{\\Gamma(3)\\Gamma(20)} \\int d\\pi \\left(1-\\pi\\right)^{c_0+20-1} \\pi^{c_1+3-1}\\right) \\\\\n",
    "& = & \\frac{1}{2} \\frac{\\Gamma(20 + 3)}{\\Gamma(20)\\Gamma(3)} \\left(\\frac{\\Gamma(20 + c_1) \\Gamma(3 + c_0)}{\\Gamma(20 + 3 + c_1 + c_0)} + \\frac{\\Gamma(3 + c_1) \\Gamma(20 + c_0)}{\\Gamma(20 + 3 + c_1 + c_0)}\\right) \\\\\n",
    "& = & \\frac{1}{2} \\frac{\\Gamma(23)}{\\Gamma(20)\\Gamma(3)} \\left(\\frac{\\Gamma(20 + c_1) \\Gamma(3 + c_0)}{\\Gamma(23 + N)} + \\frac{\\Gamma(3 + c_1) \\Gamma(20 + c_0)}{\\Gamma(23 + N)}\\right)\n",
    "\\end{eqnarray}"
   ]
  },
  {
   "cell_type": "markdown",
   "metadata": {},
   "source": [
    "* $ N $ : The size of dataset\n",
    "* $c_{1}$ : Total number of ones\n",
    "* $c_{0}$ : Total number of zeroes"
   ]
  },
  {
   "cell_type": "markdown",
   "metadata": {},
   "source": [
    "The log-odds is the ratio of marginal likelihoods\n",
    "\n",
    "$$\n",
    "l(X) = \\log\\left( \\frac{p(X|m = \\text{Fair})}{p(X|m = \\text{Fake})} \\right)\n",
    "$$\n",
    "\n",
    "If $l(X)>0$, we may conclude that the coin is fair and biased when $l<0$."
   ]
  },
  {
   "cell_type": "code",
   "execution_count": 1,
   "metadata": {
    "collapsed": false
   },
   "outputs": [
    {
     "name": "stdout",
     "output_type": "stream",
     "text": [
      "log_odds =  -1.13641225583\n"
     ]
    }
   ],
   "source": [
    "import numpy as np\n",
    "import scipy.special as sps\n",
    "import math\n",
    "import matplotlib.pyplot as plt\n",
    "\n",
    "def log_odds(c_0, c_1):\n",
    "    # Total number of tosses\n",
    "    N = c_0 + c_1\n",
    "    \n",
    "    M_fair = N*np.log(0.5)\n",
    "    M_fake = 0.5 * (sps.gamma(23)/(sps.gamma(20)*sps.gamma(3)))\n",
    "    M_fake = M_fake * ( ((sps.gamma(20+c_1)*sps.gamma(3+c_0))/sps.gamma(23+c_0+c_1)) + ((sps.gamma(3+c_1)*sps.gamma(20+c_0))/sps.gamma(23+c_0+c_1)) )\n",
    "    M_fake = np.log(M_fake)\n",
    "    return M_fair - M_fake\n",
    "\n",
    "# Number of Zeros observed\n",
    "c_0 = 6\n",
    "# Number of Ones\n",
    "c_1 = 1\n",
    "\n",
    "# Prior\n",
    "# a = 20\n",
    "# b = 3\n",
    "\n",
    "print('log_odds = ', log_odds(c_0, c_1) )"
   ]
  },
  {
   "cell_type": "code",
   "execution_count": 2,
   "metadata": {
    "collapsed": false
   },
   "outputs": [
    {
     "data": {
      "image/png": "[encoded data removed]",
      "text/plain": [
       "<matplotlib.figure.Figure at 0x2c6bd4c4fd0>"
      ]
     },
     "metadata": {},
     "output_type": "display_data"
    }
   ],
   "source": [
    "# a = 20\n",
    "# b = 3\n",
    "\n",
    "N = 10\n",
    "\n",
    "l = np.zeros(N+1)\n",
    "\n",
    "for c in range(0,N+1):\n",
    "    l[c] = log_odds(N-c, c)\n",
    "\n",
    "plt.plot(range(0,N+1), l, 'o')\n",
    "plt.plot(range(0,N+1), np.zeros(N+1), 'k:')\n",
    "ax = plt.gca()\n",
    "ax.set_xlabel('Number of ones $c_1$')\n",
    "ax.set_ylabel('log-odds $l(X)$')\n",
    "plt.show()"
   ]
  },
  {
   "cell_type": "code",
   "execution_count": 3,
   "metadata": {
    "collapsed": false
   },
   "outputs": [
    {
     "data": {
      "image/png": "[encoded data removed]",
      "text/plain": [
       "<matplotlib.figure.Figure at 0x2c6bdfdbfd0>"
      ]
     },
     "metadata": {},
     "output_type": "display_data"
    }
   ],
   "source": [
    "a = 1\n",
    "b = 1\n",
    "\n",
    "for N in range(1, 25):\n",
    "\n",
    "    l = np.zeros(N+1)\n",
    "\n",
    "    for c in range(0,N+1):\n",
    "        l[c] = log_odds(N-c, c)\n",
    "    \n",
    "    \n",
    "    idx = np.where( np.array(l)<0 )\n",
    "    p = np.arange(0,N+1)/N\n",
    "    plt.plot(N*np.ones_like(p), p, '.k',markersize=4)    \n",
    "    plt.plot(N*np.ones_like(p[idx]), p[idx], '.r',markersize=20)\n",
    "    \n",
    "\n",
    "ax = plt.gca()\n",
    "ax.set_ylim((0,1))\n",
    "ax.set_xlabel('$N$')\n",
    "ax.set_ylabel('$c_1/N$')\n",
    "plt.show()"
   ]
  },
  {
   "cell_type": "markdown",
   "metadata": {},
   "source": [
    "# Bayesian Inference in Change Point Detection (Booklet Q74)\n",
    "\n",
    "Supppose we observe the following dataset $x_t \\subset 0, 1 for t = 1..50$\n",
    "\n",
    "0 0 1 0 0 1 0 0 0 0 1 0 0 0 0 1 0 0 1 0 1 1 0 0 1 1 1 1 1 1 1 1 1 1 1 0 1 1 0 1 1 1 1 1 1 1 1 1 1 1\n",
    "\n",
    "* Suppose we know that the data comes from the following model\n",
    "\n",
    "\\begin{eqnarray}\n",
    "\\pi_1 & \\sim & \\mathcal{B}(1, 1) \\\\\n",
    "\\pi_2 & \\sim & \\mathcal{B}(1, 1) \\\\\n",
    "x_t|m & \\sim & \\left\\{ \\begin{array}{cc} \\mathcal{BE}(x_t; \\pi_1) & t \\leq n\\\\ \\mathcal{BE}(x_t; \\pi_2) & t > n \\end{array} \\right. \\\\\n",
    "m & \\sim & \\mathcal{U}(1, T)\n",
    "\\end{eqnarray}\n",
    "\n",
    "* Derive, compute and plot the posterior probability of $ p(n|x_{1:50}) $ given that n is a-priori uniform."
   ]
  },
  {
   "cell_type": "markdown",
   "metadata": {},
   "source": [
    "The general formula:\n",
    "\\begin{eqnarray}\n",
    "p(n | X) = \\frac{ p(n, X)}{p(X)} = \\frac{p(X | n) p(n=k)}{p(X)}\n",
    "\\end{eqnarray}\n",
    "\n",
    "The obvioues ones:\n",
    "\\begin{eqnarray}\n",
    "p(n = k) & = & \\frac{1}{N} \\\\\n",
    "p(X) & = & \\sum_{i=1}^{N} p(m| X)\n",
    "\\end{eqnarray}\n",
    "\n",
    "We need to calculate the marginal likelihoods for $n=k$  where $k = 1\\dots N$\n",
    "\\begin{eqnarray}\n",
    "p(X| n) & = & \\int d\\pi p(X | \\pi) p(\\pi|n=k)\n",
    "\\end{eqnarray}\n",
    "\n",
    "\\begin{eqnarray}\n",
    "p(X| n=k) & = & \\int d\\pi_1 p(\\pi_1) \\prod_{i=1}^{k-1} p(x^{(k)}| \\pi_1)  \\int d\\pi_2 p(\\pi_2) \\prod_{i=k}^{N} p(x^{(k)}| \\pi_2) \\\\\n",
    "& = &  \\int d\\pi_1 \\left(\\prod_{i=1}^{k-1} \\left(1-\\pi_1\\right)^{1-x^{(i)}} \\pi_1^{x^{(i)}} \\right) \\mathcal{B}(\\pi_1; 1, 1) \\int d\\pi_2 \\left(\\prod_{i=k}^{N} \\left(1-\\pi_2\\right)^{1-x^{(i)}} \\pi_2^{x^{(i)}} \\right) \\mathcal{B}(\\pi_2; 1, 1) \\\\\n",
    "& = & \\left( \\frac{\\Gamma(1 + 1)}{\\Gamma(1)\\Gamma(1)} \\int d\\pi_1 \\left(1-\\pi_1\\right)^{c_{10}+1-1} \\pi_1^{c_{11}+1-1} \\right) \\left( \\frac{\\Gamma(1 + 1)}{\\Gamma(1)\\Gamma(1)} \\int d\\pi_2 \\left(1-\\pi_2\\right)^{c_20+1-1} \\pi_2^{c_21+1-1} \\right) \\\\\n",
    "& = & \\left(\\frac{\\Gamma(1 + 1)}{\\Gamma(1)\\Gamma(1)} \\frac{\\Gamma(c_{10}+1)\\Gamma(c_{11}+1)}{\\Gamma((k-1) + 1 + 1)}\\right) \\left(\\frac{\\Gamma(1 + 1)}{\\Gamma(1)\\Gamma(1)} \\frac{\\Gamma(c_{20}+1)\\Gamma(c_{21}+1)}{\\Gamma((N-k+1) + 1 + 1)}\\right) \\\\\n",
    "& = & \\left(\\frac{\\Gamma(2)}{\\Gamma(1)\\Gamma(1)}\\right)^2 \\left(\\frac{\\Gamma(c_{10}+1)\\Gamma(c_{11}+1)}{\\Gamma(k+1)}\\right) \\left(\\frac{\\Gamma(c_{20}+1)\\Gamma(c_{21}+1)}{\\Gamma(N-k+3)}\\right)\n",
    "\\end{eqnarray}\n",
    "\n",
    "* $ N $ : The size of dataset (N = 50 for the given dataset)\n",
    "* $c_{10}$ : Total number of zeroes before $k^{th}$ number\n",
    "* $c_{11}$ : Total number of ones before $k^{th}$ number\n",
    "* $c_{20}$ : Total number of zeroes after $k^{th}$ number (including $k^{th}$ number)\n",
    "* $c_{21}$ : Total number of ones after $k^{th}$ number (including $k^{th}$ number)\n",
    "\n"
   ]
  },
  {
   "cell_type": "markdown",
   "metadata": {},
   "source": [
    "To get more precise results we took the log of probabilities. Then we normalize the data and plot it to show the probability distribution of n."
   ]
  },
  {
   "cell_type": "code",
   "execution_count": 6,
   "metadata": {
    "collapsed": false
   },
   "outputs": [
    {
     "name": "stdout",
     "output_type": "stream",
     "text": [
      "data:  [1, 0, 1, 0, 1, 0, 1, 0, 1, 0, 1, 0, 1, 1, 1, 0, 0, 1, 1, 0, 0, 0, 0, 1, 1, 1, 1, 1, 1, 1, 1, 1, 1, 1, 1]\n",
      "\n",
      "logChangePoints =  [ 0.0248804   0.02526424  0.02560109  0.02565072  0.02602396  0.02597287\n",
      "  0.0263866   0.02627851  0.02673955  0.02658894  0.027107    0.02691892\n",
      "  0.02750768  0.02728272  0.02713614  0.0270575   0.02750933  0.0281879\n",
      "  0.027954    0.02778733  0.02850516  0.02958022  0.03122484  0.03403313\n",
      "  0.03324973  0.03257246  0.03198801  0.03148721  0.03106448  0.03071791\n",
      "  0.03044983  0.03026861  0.03019286  0.03026191  0.03056825]\n",
      "\n"
     ]
    },
    {
     "data": {
      "image/png": "[encoded data removed]",
      "text/plain": [
       "<matplotlib.figure.Figure at 0x2c6bf167908>"
      ]
     },
     "metadata": {},
     "output_type": "display_data"
    }
   ],
   "source": [
    "import numpy as np\n",
    "import scipy.special as sps\n",
    "import math\n",
    "import matplotlib.pyplot as plt\n",
    "\n",
    "def logChangePoint(seri):\n",
    "    # Total number of tosses\n",
    "    N = len(seri)\n",
    "    \n",
    "    Ms = []\n",
    "    \n",
    "    for m in range(N):\n",
    "        c = [[0, 0], [0, 0]]\n",
    "        \n",
    "        for j in range(N):\n",
    "            if j < m:\n",
    "                c[0][seri[j]] = c[0][seri[j]] + 1\n",
    "            else:\n",
    "                c[1][seri[j]] = c[1][seri[j]] + 1\n",
    "            \n",
    "        res = 2 * (sps.gammaln(1+1) - sps.gammaln(1) - sps.gammaln(1))\n",
    "        res = res + sps.gammaln(c[0][1]+1) + sps.gammaln(c[0][0]+1) - sps.gammaln(1+1+m-1)\n",
    "        res = res + sps.gammaln(c[1][1]+1) + sps.gammaln(c[1][0]+1) - sps.gammaln(1+1+N-m+1)\n",
    "        res = res - math.log(N)\n",
    "        \n",
    "        Ms.append(res)\n",
    "    \n",
    "    return Ms\n",
    "\n",
    "seri = [1,0,1,0,1,0,1,0,1,0,1,0,1,1,1,0,0,1,1,0,0,0,0,1,1,1,1,1,1,1,1,1,1,1,1]\n",
    "\n",
    "# Prior\n",
    "# a = 1\n",
    "# b = 1\n",
    "\n",
    "\n",
    "logChange = logChangePoint(seri)\n",
    "\n",
    "for i in range(len(logChange)):\n",
    "    logChange[i] = -1 / logChange[i]\n",
    "\n",
    "sm = 0\n",
    "for k in logChange:\n",
    "    sm = sm + k\n",
    "\n",
    "logChange = logChange / sm\n",
    "print('data: ', seri)\n",
    "print()\n",
    "print('logChangePoints = ', logChange)\n",
    "print()\n",
    "\n",
    "plt.plot(range(len(logChange)), logChange, 'o')\n",
    "ax = plt.gca()\n",
    "ax.set_xlabel('n')\n",
    "ax.set_ylabel('probabilities')\n",
    "plt.show()"
   ]
  }
 ],
 "metadata": {
  "anaconda-cloud": {},
  "kernelspec": {
   "display_name": "Python [conda root]",
   "language": "python",
   "name": "conda-root-py"
  },
  "language_info": {
   "codemirror_mode": {
    "name": "ipython",
    "version": 3
   },
   "file_extension": ".py",
   "mimetype": "text/x-python",
   "name": "python",
   "nbconvert_exporter": "python",
   "pygments_lexer": "ipython3",
   "version": "3.5.2"
  }
 },
 "nbformat": 4,
 "nbformat_minor": 2
}
